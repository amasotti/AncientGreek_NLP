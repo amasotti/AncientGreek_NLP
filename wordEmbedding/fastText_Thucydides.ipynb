{
 "cells": [
  {
   "cell_type": "markdown",
   "metadata": {},
   "source": [
    "# FastText model for Ancient Greek\n",
    "\n",
    "In this file I will load a pre-trained model (on Homer) and re-train it with the texts from Thucydides Peloponnesian Wars."
   ]
  },
  {
   "cell_type": "code",
   "execution_count": 2,
   "metadata": {},
   "outputs": [],
   "source": [
    "# imports\n",
    "from cltk.tokenize.sentence import TokenizeSentence\n",
    "from pprint import pprint as print\n",
    "import gensim\n",
    "from gensim.models.fasttext import FastText\n",
    "from gensim.test.utils import datapath\n",
    "from gensim import utils\n",
    "from argparse import Namespace"
   ]
  },
  {
   "cell_type": "code",
   "execution_count": null,
   "metadata": {},
   "outputs": [],
   "source": [
    "args = Namespace(\n",
    "    thucydides_raw = '../data/raw_data/ThucydidesGesamt_deaccented.txt',\n",
    "    model = '',\n",
    "    stopwords = ''\n",
    ")"
   ]
  }
 ],
 "metadata": {
  "kernelspec": {
   "display_name": "Python 3",
   "language": "python",
   "name": "python3"
  },
  "language_info": {
   "codemirror_mode": {
    "name": "ipython",
    "version": 3
   },
   "file_extension": ".py",
   "mimetype": "text/x-python",
   "name": "python",
   "nbconvert_exporter": "python",
   "pygments_lexer": "ipython3",
   "version": "3.7.7"
  }
 },
 "nbformat": 4,
 "nbformat_minor": 4
}
