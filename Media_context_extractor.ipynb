{
 "cells": [
  {
   "cell_type": "markdown",
   "metadata": {},
   "source": [
    "# extract Media from Ilias"
   ]
  },
  {
   "cell_type": "code",
   "execution_count": 1,
   "metadata": {},
   "outputs": [],
   "source": [
    "def load(txt):\n",
    "    with open(txt, \"r\",encoding = \"UTF-8\") as source:\n",
    "        testo = source.readlines()\n",
    "    return testo\n",
    "data = load(\"token_Ilias.txt\")"
   ]
  },
  {
   "cell_type": "code",
   "execution_count": 2,
   "metadata": {},
   "outputs": [
    {
     "data": {
      "text/plain": [
       "['μῆνιν|n--s---fa-|μῆνις\\n', 'ἄειδε|v-2spma---|ἀείδω\\n']"
      ]
     },
     "execution_count": 2,
     "metadata": {},
     "output_type": "execute_result"
    }
   ],
   "source": [
    "data[0:2]"
   ]
  },
  {
   "cell_type": "code",
   "execution_count": 18,
   "metadata": {},
   "outputs": [],
   "source": [
    "import re\n",
    "verbs = []\n",
    "for d in data:\n",
    "    infos = d.split(\"|\")\n",
    "    regex = r\"(v).*\"\n",
    "    matches = re.match(regex, infos[1])\n",
    "    if matches is not None:\n",
    "        verbs.append(infos[2][:-1])"
   ]
  },
  {
   "cell_type": "code",
   "execution_count": 20,
   "metadata": {},
   "outputs": [
    {
     "data": {
      "text/plain": [
       "['ἀείδω', 'τίθημι']"
      ]
     },
     "execution_count": 20,
     "metadata": {},
     "output_type": "execute_result"
    }
   ],
   "source": [
    "verbs[:2]"
   ]
  },
  {
   "cell_type": "code",
   "execution_count": 68,
   "metadata": {},
   "outputs": [],
   "source": [
    "# Load ilias\n",
    "with open(\"HomerGesamt.txt\",\"r\",encoding=\"UTF-8\") as il:\n",
    "    homer = il.read()"
   ]
  },
  {
   "cell_type": "code",
   "execution_count": 69,
   "metadata": {},
   "outputs": [],
   "source": [
    "import re\n",
    "regex = r\"\\n\"\n",
    "homer = re.sub(regex, \" \",homer, re.MULTILINE) # delete row break\n",
    "homer = re.sub(\"n\", \"\",homer, re.MULTILINE) # delete row break\n",
    "homer = re.sub(r\";\",\"?\",homer,re.MULTILINE) # change question mark\n",
    "homer = re.sub(r\"(\\d+(\\.\\d+)?)\",\"\",homer,0,re.MULTILINE) # delete verse number\n"
   ]
  },
  {
   "cell_type": "code",
   "execution_count": 74,
   "metadata": {},
   "outputs": [],
   "source": [
    "# find sentences:\n",
    "from nltk import tokenize\n",
    "homer_sent = tokenize.sent_tokenize(homer)\n",
    "\n",
    "corpus = [[\"<START>\"] + [w.lower() for w in sent.split()] + [\"<END>\"] for sent in homer_sent]"
   ]
  },
  {
   "cell_type": "code",
   "execution_count": 129,
   "metadata": {},
   "outputs": [
    {
     "data": {
      "text/plain": [
       "'.'"
      ]
     },
     "execution_count": 129,
     "metadata": {},
     "output_type": "execute_result"
    }
   ],
   "source": [
    "with open('stopwords.txt',\"r\",encoding=\"UTF-8\") as stopw:\n",
    "    stopwords = stopw.read()\n",
    "stopwords = stopwords.split('\\n')\n",
    "stopwords.extend('.')\n",
    "stopwords[-1]"
   ]
  },
  {
   "cell_type": "code",
   "execution_count": 143,
   "metadata": {},
   "outputs": [],
   "source": [
    "for sent_ind in range(len(corpus)):\n",
    "    corpus[sent_ind] = [w for w in corpus[sent_ind] if w not in stopwords]"
   ]
  },
  {
   "cell_type": "code",
   "execution_count": 144,
   "metadata": {},
   "outputs": [],
   "source": [
    "# find 5 neighbours of erhomai\n",
    "\n",
    "def allIndices(sent, wanted):\n",
    "    from more_itertools import locate\n",
    "    indices = list(locate(sent, lambda a : a == wanted))\n",
    "    return indices\n",
    "\n",
    "def find_neighbours(corpus,target_list,window=5):\n",
    "    context = []\n",
    "    # iterate per verb_form\n",
    "    for verb_form in list(target_list):\n",
    "        # iterate per sentence\n",
    "        for sentence in corpus:\n",
    "            # if the wanted form is in the sentence, extract all the indices\n",
    "            if verb_form in sentence:\n",
    "                indices = allIndices(sentence,verb_form)\n",
    "                \n",
    "                # for each occurrence\n",
    "                for occurrence in indices:\n",
    "                    for j in range(max(occurrence-window,0),min(occurrence+window, len(sentence))):\n",
    "                        if j not in indices:\n",
    "                            # If the window is large, it makes no sense to count start and end\n",
    "                            if window > 2:\n",
    "                                if sentence[j] != \"<END>\" and sentence[j] != \"<START>\":\n",
    "                                    context.append(sentence[j])\n",
    "    return context\n",
    "                                \n",
    "                \n",
    "    "
   ]
  },
  {
   "cell_type": "markdown",
   "metadata": {},
   "source": [
    "# Single verbs analysis"
   ]
  },
  {
   "cell_type": "code",
   "execution_count": 145,
   "metadata": {},
   "outputs": [],
   "source": [
    "import collections\n",
    "from collections import Counter"
   ]
  },
  {
   "cell_type": "code",
   "execution_count": 146,
   "metadata": {},
   "outputs": [],
   "source": [
    "# escape\n",
    "aleinw = set()\n",
    "aleomai = set()\n",
    "erukw = set()\n",
    "for d in data:\n",
    "    el = d.split('|')\n",
    "    if el[2] == \"ἀλεείνω\\n\":\n",
    "        aleinw.add(el[0])\n",
    "    if el[2] == 'ἀλέομαι\\n':\n",
    "        aleomai.add(el[0])\n",
    "    if el[2] == 'ἐρύκω\\n':\n",
    "        erukw.add(el[0])"
   ]
  },
  {
   "cell_type": "code",
   "execution_count": 147,
   "metadata": {},
   "outputs": [],
   "source": [
    "aleinw_c = Counter(find_neighbours(corpus,aleinw))\n",
    "aleomai_c = Counter(find_neighbours(corpus,aleomai))\n",
    "erukw_c = Counter(find_neighbours(corpus,erukw))"
   ]
  },
  {
   "cell_type": "code",
   "execution_count": 148,
   "metadata": {},
   "outputs": [],
   "source": [
    "from pprint import pprint\n"
   ]
  },
  {
   "cell_type": "code",
   "execution_count": 149,
   "metadata": {},
   "outputs": [
    {
     "name": "stdout",
     "output_type": "stream",
     "text": [
      "Aleinw: 181\n",
      "aleomai: 346\n",
      "erukw: 590\n",
      "\n"
     ]
    }
   ],
   "source": [
    "print(f\"Aleinw: {sum(aleinw_c.values())}\\naleomai: {sum(aleomai_c.values())}\\nerukw: {sum(erukw_c.values())}\\n\")"
   ]
  },
  {
   "cell_type": "code",
   "execution_count": 150,
   "metadata": {},
   "outputs": [
    {
     "name": "stdout",
     "output_type": "stream",
     "text": [
      "[('τινα', 4), ('θεοπροπίην', 4), ('ἑτάρων', 4), ('εἰς', 4), ('ἔθνος', 4),\n",
      " ('ἐχάζετο', 4), ('κῆρʼ', 4), ('εὐνῇ', 3), ('οὔ', 3), ('ποτʼ', 3),\n",
      " ('ἔμικτο,', 3), ('χόλον', 3), ('γυναικός·', 3), ('ἅμʼ', 3), ('αἰθομένας', 3),\n",
      " ('δαΐδας', 3), ('τηλεμάχοιο', 3), ('ἐς', 3), ('πατέρʼ', 3), ('ὀφθαλμοῖσιν', 3),\n",
      " ('ἰδών,', 3), ('ὑφορβόν.', 3), ('καί', 3), ('τινά', 3), ('πὰρ', 3),\n",
      " ('ζηνὸς', 3), ('τάων', 3), ('νῦν', 3), ('λώβην', 3), ('αἴσχεα', 3),\n",
      " ('πόλλʼ', 3), ('οὐκ', 3), ('ἐάας', 3), ('νίζειν·', 3), ('ἐμὲ', 3), ('οὐδʼ', 2),\n",
      " ('ὀρέων·', 2), ('μεταπαυόμενοι', 2), ('μάχοντο', 2), ('ἀλλήλων', 2),\n",
      " ('βέλεα', 2), ('στονόεντα', 2), ('ἔγχεΐ', 2), ('ἄορί', 2), ('μεγάλοισί', 2),\n",
      " ('χερμαδίοισιν,', 2), ('αἴαντος', 2), ('μάχην', 2), ('τελαμωνιάδαο.', 2),\n",
      " ('φρεσὶ', 2), ('σῇσι', 2), ('δαμῆναι·', 2), ('ῥʼ', 2), ('ἅμα', 2),\n",
      " ('ἀργαλέην', 2), ('θωὴν', 2), ('ἀχαιῶν', 2), ('χεῖρα', 2),\n",
      " ('παρακρεμάσας·', 2), ('ἐφέλκετο', 2), ('μείλινον', 2), ('πάντοσε', 2),\n",
      " ('παπταίνων', 2), ('μή', 2), ('τις', 2), ('φρεσὶν', 2), ('ᾗσι', 2),\n",
      " ('πολλὸν', 1), ('ἀφεσταότες.', 1), ('νοῦσόν', 1), ('στυγερήν,', 1),\n",
      " ('ἵνα', 1)]\n"
     ]
    }
   ],
   "source": [
    "pprint(aleinw_c.most_common(100), compact = True)"
   ]
  },
  {
   "cell_type": "code",
   "execution_count": 151,
   "metadata": {},
   "outputs": [
    {
     "name": "stdout",
     "output_type": "stream",
     "text": [
      "[('ἄντα', 14), ('ἰδὼν', 14), ('ἀλλʼ', 13), ('χάλκεον', 12), ('ἔγχος·', 9),\n",
      " ('κῆρα', 8), ('γὰρ', 8), ('οὐδʼ', 6), ('μέλαιναν.', 6), ('ἔγχος', 6),\n",
      " ('ἀνεχάζετο', 4), ('ὀπίσσω', 4), ('μῆνιν', 4), ('ἑκατηβόλου', 4),\n",
      " ('ἀπόλλωνος.', 4), ('διάμησε', 4), ('χιτῶνα', 4), ('ἐκλίνθη', 4),\n",
      " ('πρόσσω', 4), ('ἂν', 3), ('ἐγὼ', 3), ('διὸς', 3), ('ἔχθος', 3),\n",
      " ('πεφιδοίμην', 3), ('οὔτε', 3), ('σεῦ', 3), ('οὔθʼ', 3), ('κεν', 3), ('οὔ', 3),\n",
      " ('τις', 3), ('ὑπεκφύγοι', 3), ('μνηστήρων,', 3), ('δῶμα', 3), ('κάτʼ', 3),\n",
      " ('ἀντιθέου', 3), ('λαπάρην', 3), ('αὐτὰρ', 3), ('ἔπειτα', 3), ('πουλὺν', 3),\n",
      " ('ὅμιλον,', 3), ('ἵνα', 3), ('ἔβαλες', 3), ('ξεῖνον·', 3), ('βέλος', 3),\n",
      " ('αὐτός.', 3), ('τυτθόν·', 3), ('δουρὶ', 3), ('φαεινῷ·', 3), ('τυδεΐδης', 2),\n",
      " ('τυτθὸν', 2), ('ἐννοσίγαιος', 2), ('οἴχεται', 2), ('εἰς', 2), ('ἅλα', 2),\n",
      " ('δῖαν', 2), ('χόλον', 2), ('αἰπὺν', 2), ('ἡμέτερον·', 2), ('μάλα', 2),\n",
      " ('πάτροκλος', 2), ('πολλὸν', 2), ('ἀμφοτέρους', 2), ('ἕλε', 2), ('κύκλους', 2),\n",
      " ('ἀσπίδος', 2), ('ἀμφιβρότης·', 2), ('δόρυ', 2), ('μακρὸν', 2), ('ἔστη,', 2),\n",
      " ('κὰδ', 2), ('ἐς', 2), ('πληθύν,', 2), ('πουλυδάμας', 2), ('αὐτὸς', 2),\n",
      " ('μέλαιναν', 2), ('λικριφὶς', 2), ('ἀΐξας,', 2), ('ἔπλετο', 2), ('θυμῷ·', 2),\n",
      " ('οὐκ', 2), ('ποιητοῖο·', 2), ('λίθου', 2), ('ἐπαυρεῖν,', 2), ('μή', 2),\n",
      " ('πως', 2), ('ἵππους', 2), ('αὖτʼ', 2), ('ἀμείνονας', 2), ('ἠπεροπεύειν.', 2),\n",
      " ('ἀκόντισεν', 2), ('ἰδομενῆος·', 2), ('ἔγχος,', 2), ('αἰχμὴ', 2),\n",
      " ('αἰνείαο', 2), ('σχεδίον', 2), ('προΐει', 2), ('δολιχόσκιον', 2),\n",
      " ('φαίδιμος', 2), ('ἕκτωρ·', 2), ('ἀ', 2)]\n"
     ]
    }
   ],
   "source": [
    "pprint(aleomai_c.most_common(100), compact=True)"
   ]
  },
  {
   "cell_type": "code",
   "execution_count": 152,
   "metadata": {},
   "outputs": [
    {
     "name": "stdout",
     "output_type": "stream",
     "text": [
      "[('ἵππους', 13), ('μὴ', 10), ('λαὸν', 9), ('γὰρ', 9), ('οὔ', 9), ('αὐτοῦ', 8),\n",
      " ('ἐπὶ', 8), ('τε·', 7), ('τις', 7), ('κατὰ', 6), ('μιν', 6), ('ἦ', 6),\n",
      " ('δῖα', 6), ('κʼ', 5), ('φώνησέν', 5), ('ἐν', 5), ('πρῶτον', 5), ('μʼ', 5),\n",
      " ('οὐδʼ', 4), ('μή', 4), ('εὖ', 4), ('κόσμον', 4), ('αὖθʼ', 4), ('τάφρῳ,', 4),\n",
      " ('αὐτοὶ', 4), ('σὺ', 4), ('αὐτὰρ', 4), ('ἐγὼ', 4), ('περ·', 4), ('ὠκέας', 4),\n",
      " ('κακόν,', 4), ('ἱεμένων', 4), ('περ.', 4), ('ἕκαστος', 3), ('πρὸ', 3),\n",
      " ('φάος', 3), ('ἠελίοιο,', 3), ('ὀδυσσεὺς', 3), ('αὐτὸς', 3), ('“παύεσθον', 3),\n",
      " ('κλαυθμοῖο', 3), ('μένοις·', 3), ('ἀέκοντα', 3), ('σʼ', 3), ('φαιήκων·', 3),\n",
      " ('τοῦτο', 3), ('φίλον', 3), ('ἑήνδανε·', 3), ('βούλετο', 3), ('γάρ', 3),\n",
      " ('ῥα', 3), ('ῥέξαι', 3), ('θʼ', 3), ('ἱερὰς', 3), ('ἑκατόμβας,', 3),\n",
      " ('ἐθέλῃς', 3), ('σὸν', 3), ('θυμὸν', 3), ('ἑταίρων,', 3), ('ὁππότε', 3),\n",
      " ('κε', 3), ('οἴνοιό', 3), ('πινομένοιο', 3), ('σίτου·', 3), ('χαλεπὸν', 3),\n",
      " ('ἕνα', 3), ('πολλούς.', 3), ('κεχρημένον', 3), ('ἠδὲ', 3), ('γυναικὸς', 3),\n",
      " ('νύμφη', 3), ('πότνιʼ', 3), ('καλυψὼ', 3), ('θεάων', 3), ('μέν', 3),\n",
      " ('αὐτόθʼ', 3), ('καλυψώ,', 3), ('θεάων,', 3), ('αὐτῷ', 3), ('ἦλθε', 3),\n",
      " ('ἀγαθὸς', 2), ('διομήδης,', 2), ('ἀλλʼ', 2), ('γε', 2), ('ἑοὺς', 2),\n",
      " ('μώνυχας', 2), ('νόσφιν', 2), ('ἀπὸ', 2), ('ὄρουσε', 2), ('βλημένου,', 2),\n",
      " ('ἐπέρησε,', 2), ('θεοῦ', 2), ('δῶρα.', 2), ('ἐγγύθι', 2), ('τάφρον,', 2),\n",
      " ('χʼ', 2), ('ἵππον', 2), ('ἀμφὶς', 2), ('ἐοῦσα,', 2), ('ποτʼ', 2)]\n"
     ]
    }
   ],
   "source": [
    "pprint(erukw_c.most_common(100), compact=True)"
   ]
  },
  {
   "cell_type": "code",
   "execution_count": 153,
   "metadata": {},
   "outputs": [],
   "source": [
    "def extract_neighbours(verb, corpus = corpus,window=5,print_common = True,hmany=100):\n",
    "    verb_forms = set()\n",
    "    for d in data:\n",
    "        el = d.split('|')\n",
    "        if el[2] == verb+\"\\n\":\n",
    "            verb_forms.add(el[0])\n",
    "    context = Counter(find_neighbours(corpus,verb_forms,window = window))\n",
    "    if print_common:\n",
    "        pprint(context.most_common(hmany), compact=True)\n",
    "    return context        "
   ]
  },
  {
   "cell_type": "code",
   "execution_count": 141,
   "metadata": {},
   "outputs": [
    {
     "name": "stdout",
     "output_type": "stream",
     "text": [
      "[('εἶναι.', 22), ('εἶναι', 21), ('γένος', 20), ('διὶ', 19), ('ἐξ', 14),\n",
      " ('εἶναι,', 14), ('ὣς', 12), ('ποσειδάωνι', 12), ('χεῖρας', 12),\n",
      " ('ἀνασχών·', 10), ('ἔπειτα', 10), ('ἀλλʼ', 10), ('ἐγὼ', 10), ('γʼ', 9),\n",
      " ('γε', 9), ('εἶναι·', 9), ('εἶναι.”', 9), ('μέν', 8), ('κούρῃ', 8),\n",
      " ('ἄνακτι', 8), ('ἀχαιῶν', 8), ('ὃς', 8), ('υἱὸς', 8), ('διὸς', 7), ('εἰς', 7),\n",
      " ('σύ', 7), ('πατρὶ', 7), ('μέλλεις', 7), ('“κλῦθι,', 6), ('μέγα', 6),\n",
      " ('αὐτίκα', 6), ('πολλὰ', 6), ('“ὣς', 6), ('ἐπεὶ', 6), ('μάλα', 6),\n",
      " ('πατὴρ', 6), ('ἐμὸς', 6), ('μετὰ', 6), ('ἀγχιάλοιο', 6), ('δαΐφρονος', 6),\n",
      " ('υἱός,', 6), ('ἀτὰρ', 6), ('ταφίοισι', 6), ('γὰρ', 6), ('οὐ', 6),\n",
      " ('ἱκέτης', 6), ('κρητάων', 6), ('εὐρειάων,', 6), ('ποῦ', 6), ('νύ', 6),\n",
      " ('ῥʼ', 5), ('ἄνακτι·', 5), ('ὃν', 5), ('κατὰ', 5), ('χεῖρʼ', 5), ('ὀρέγων', 5),\n",
      " ('οὐρανὸν', 5), ('πᾶσι', 5), ('θεοῖσι', 5), ('τεληέσσας', 5), ('ἑκατόμβας', 5),\n",
      " ('ἐμὲ', 5), ('οἴκαδʼ', 5), ('δὴ', 5), ('πατρί,', 5), ('ἐκ', 5), ('μεγάλου', 5),\n",
      " ('γεραίτερος', 5), ('ἀγαθοῦ', 5), ('μέντης', 5), ('καί', 5), ('φησὶ', 5),\n",
      " ('ἠδʼ', 4), ('θεοῖς', 4), ('κρονίωνι', 4), ('περ', 4), ('πάρος', 4),\n",
      " ('μεγάλʼ', 4), ('ἐπὶ', 4), ('ἀπόλλωνι', 4), ('λυκηγενέϊ', 4), ('κλυτοτόξῳ', 4),\n",
      " ('αὖτε', 4), ('ἀπόλλων', 4), ('ἄγʼ', 4), ('ἄρα', 4), ('ἂψ', 4), ('νῦν', 4),\n",
      " ('ταύτης', 4), ('γενεῆς', 4), ('αἵματος', 4), ('πατρὸς', 4), ('αὐτὰρ', 4),\n",
      " ('ἀγχίσαο', 4), ('ἐκγεγάμεν,', 4), ('μήτηρ', 4), ('ἐστʼ', 4), ('ἐρύσατο', 4),\n",
      " ('φοῖβος', 4), ('ᾧ', 4)]\n"
     ]
    }
   ],
   "source": [
    "euhomai = extract_neighbours(\"εὔχομαι\")"
   ]
  },
  {
   "cell_type": "markdown",
   "metadata": {},
   "source": [
    "## Analyzer"
   ]
  },
  {
   "cell_type": "code",
   "execution_count": 169,
   "metadata": {},
   "outputs": [],
   "source": [
    "ilias_dict = {}\n",
    "for d in data:\n",
    "    el = d.split('|')\n",
    "    if el[0] in ilias_dict.keys():\n",
    "        continue\n",
    "    else:\n",
    "        ilias_dict[el[0]] = el[1]"
   ]
  },
  {
   "cell_type": "code",
   "execution_count": 302,
   "metadata": {},
   "outputs": [],
   "source": [
    "class Analyzer():\n",
    "    \n",
    "    def __init__(self,verb):\n",
    "        self.verb = verb\n",
    "        self.pos = []\n",
    "        self.tense = []\n",
    "        self.voice = []\n",
    "        self.case = []\n",
    "        self.mood = []\n",
    "        self.context = None\n",
    "        self.context_words = 0\n",
    "        \n",
    "    def __repr__(self):\n",
    "        print(f\"Analyzer für das Verb {self.verb}\")\n",
    "        \n",
    "    def extract_context(self):\n",
    "        self.context = extract_neighbours(self.verb,print_common=False)\n",
    "    \n",
    "    def analyze(self):\n",
    "        if self.context == None:\n",
    "            self.extract_context()\n",
    "        self.context_words = sum(self.context.values())\n",
    "        for w in list(self.context):\n",
    "            if w in ilias_dict.keys() and len(ilias_dict[w]) > 8 :\n",
    "                morpho_info = ilias_dict[w]\n",
    "                self.pos.append(morpho_info[0])\n",
    "                if morpho_info[4] != \"-\":\n",
    "                    self.tense.append(morpho_info[4])\n",
    "                if morpho_info[5] != \"-\":\n",
    "                    self.mood.append(morpho_info[5])\n",
    "                if morpho_info[6] != \"-\":\n",
    "                    self.voice.append(morpho_info[6])\n",
    "                if morpho_info[8] != \"-\":\n",
    "                    self.case.append(morpho_info[8])\n",
    "        \n",
    "    def get_info(self,category,pr = False):\n",
    "        cat_c = Counter(category)\n",
    "        cat_c_normalized = {}\n",
    "        for w,c in cat_c.items():\n",
    "            cat_c_normalized[w] = round(c/self.context_words,3)\n",
    "            if pr:\n",
    "                print(f\"{w} : {cat_c_normalized[w]}\")\n",
    "        return cat_c_normalized\n",
    "            \n",
    "    def get_pos(self,pr=False):\n",
    "        return self.get_info(self.pos,pr)\n",
    "        \n",
    "    def get_tense(self,pr=False):\n",
    "        return self.get_info(self.tense,pr)\n",
    "        \n",
    "    def get_mood(self,pr=False):\n",
    "        return self.get_info(self.mood,pr)\n",
    "    \n",
    "    def get_voice(self,pr=False):\n",
    "        return self.get_info(self.voice,pr)\n",
    "    \n",
    "    def get_case(self,pr=False):\n",
    "        return self.get_info(self.case,pr)\n",
    "    \n",
    "    def get_all(self,pr=True):\n",
    "        print(\"POS:\\n\")\n",
    "        self.get_pos(pr=pr)\n",
    "        print(\"\\nTENSE\\n\")\n",
    "        self.get_tense(pr=pr)\n",
    "        print(\"\\nVOICE\\n\")\n",
    "        self.get_voice(pr=pr)\n",
    "        print(\"\\nMOOD\\n\")\n",
    "        self.get_mood(pr=pr)\n",
    "        print(\"\\nCASE\\n\")\n",
    "        self.get_case(pr=pr)\n",
    "        \n",
    "        \n",
    "\n",
    "\n",
    "        \n",
    "        \n",
    "        "
   ]
  },
  {
   "cell_type": "code",
   "execution_count": 303,
   "metadata": {},
   "outputs": [],
   "source": [
    "del(euhomai)"
   ]
  },
  {
   "cell_type": "code",
   "execution_count": 306,
   "metadata": {
    "scrolled": true
   },
   "outputs": [
    {
     "name": "stdout",
     "output_type": "stream",
     "text": [
      "POS:\n",
      "\n",
      "n : 0.038\n",
      "v : 0.027\n",
      "c : 0.008\n",
      "d : 0.021\n",
      "g : 0.009\n",
      "p : 0.01\n",
      "a : 0.03\n",
      "r : 0.003\n",
      "\n",
      "TENSE\n",
      "\n",
      "p : 0.008\n",
      "i : 0.002\n",
      "a : 0.016\n",
      "r : 0.001\n",
      "\n",
      "VOICE\n",
      "\n",
      "e : 0.001\n",
      "a : 0.024\n",
      "m : 0.003\n",
      "\n",
      "MOOD\n",
      "\n",
      "p : 0.007\n",
      "i : 0.012\n",
      "m : 0.005\n",
      "n : 0.003\n",
      "s : 0.001\n",
      "\n",
      "CASE\n",
      "\n",
      "g : 0.019\n",
      "n : 0.024\n",
      "d : 0.017\n",
      "a : 0.025\n",
      "v : 0.001\n"
     ]
    }
   ],
   "source": [
    "euhomai = Analyzer(\"εὔχομαι\")\n",
    "euhomai.analyze()\n",
    "euhomai.get_all(pr=True)"
   ]
  },
  {
   "cell_type": "code",
   "execution_count": 285,
   "metadata": {
    "scrolled": true
   },
   "outputs": [
    {
     "name": "stdout",
     "output_type": "stream",
     "text": [
      "POS:\n",
      "\n",
      "Counter({'n': 254,\n",
      "         'a': 184,\n",
      "         'v': 158,\n",
      "         'd': 61,\n",
      "         'c': 25,\n",
      "         'p': 20,\n",
      "         'g': 19,\n",
      "         'r': 19})\n",
      "v : 0.031\n",
      "g : 0.004\n",
      "p : 0.004\n",
      "n : 0.049\n",
      "d : 0.012\n",
      "c : 0.005\n",
      "a : 0.036\n",
      "r : 0.004\n",
      "\n",
      "TENSE\n",
      "\n",
      "Counter({'a': 94, 'i': 31, 'p': 20, 'f': 8, 'r': 4, 'l': 1})\n",
      "a : 0.018\n",
      "p : 0.004\n",
      "f : 0.002\n",
      "r : 0.001\n",
      "i : 0.006\n",
      "l : 0.0\n",
      "\n",
      "VOICE\n",
      "\n",
      "Counter({'a': 109, 'm': 29, 'e': 17, 'p': 3})\n",
      "a : 0.021\n",
      "m : 0.006\n",
      "e : 0.003\n",
      "p : 0.001\n",
      "\n",
      "MOOD\n",
      "\n",
      "Counter({'i': 93, 'p': 45, 's': 8, 'n': 7, 'o': 3, 'm': 2})\n",
      "m : 0.0\n",
      "n : 0.001\n",
      "i : 0.018\n",
      "p : 0.009\n",
      "s : 0.002\n",
      "o : 0.001\n",
      "\n",
      "CASE\n",
      "\n",
      "Counter({'a': 231, 'n': 126, 'g': 72, 'd': 69, 'v': 5})\n",
      "d : 0.013\n",
      "a : 0.045\n",
      "g : 0.014\n",
      "n : 0.024\n",
      "v : 0.001\n"
     ]
    }
   ],
   "source": [
    "ainumai = Analyzer('αἱρέω')\n",
    "ainumai.analyze()\n",
    "ainumai.get_all()"
   ]
  },
  {
   "cell_type": "code",
   "execution_count": 292,
   "metadata": {
    "scrolled": true
   },
   "outputs": [],
   "source": [
    "mahomai = Analyzer('μάχομαι')\n",
    "mahomai.analyze()"
   ]
  },
  {
   "cell_type": "code",
   "execution_count": 291,
   "metadata": {},
   "outputs": [],
   "source": [
    "erizw = Analyzer(\"ἐρίζω\")\n",
    "erizw.analyze()"
   ]
  },
  {
   "cell_type": "markdown",
   "metadata": {},
   "source": [
    "# Visualisierung"
   ]
  },
  {
   "cell_type": "code",
   "execution_count": 314,
   "metadata": {},
   "outputs": [],
   "source": [
    "import matplotlib.pyplot as plt\n",
    "import matplotlib as mpl\n",
    "import seaborn as sns"
   ]
  },
  {
   "cell_type": "code",
   "execution_count": 320,
   "metadata": {},
   "outputs": [
    {
     "name": "stdout",
     "output_type": "stream",
     "text": [
      "Counter({'a': 94, 'i': 31, 'p': 20, 'f': 8, 'r': 4, 'l': 1})\n",
      "a : 0.018\n",
      "p : 0.004\n",
      "f : 0.002\n",
      "r : 0.001\n",
      "i : 0.006\n",
      "l : 0.0\n",
      "Counter({'a': 94, 'i': 31, 'p': 20, 'f': 8, 'r': 4, 'l': 1})\n",
      "a : 0.018\n",
      "p : 0.004\n",
      "f : 0.002\n",
      "r : 0.001\n",
      "i : 0.006\n",
      "l : 0.0\n",
      "Counter({'p': 4, 'a': 3, 'r': 1})\n",
      "a : 0.012\n",
      "p : 0.016\n",
      "r : 0.004\n",
      "Counter({'p': 4, 'a': 3, 'r': 1})\n",
      "a : 0.012\n",
      "p : 0.016\n",
      "r : 0.004\n",
      "Counter({'p': 30, 'a': 23, 'r': 8, 'i': 7, 'f': 4, 'l': 1})\n",
      "p : 0.018\n",
      "a : 0.014\n",
      "i : 0.004\n",
      "r : 0.005\n",
      "l : 0.001\n",
      "f : 0.002\n",
      "Counter({'p': 30, 'a': 23, 'r': 8, 'i': 7, 'f': 4, 'l': 1})\n",
      "p : 0.018\n",
      "a : 0.014\n",
      "i : 0.004\n",
      "r : 0.005\n",
      "l : 0.001\n",
      "f : 0.002\n"
     ]
    },
    {
     "data": {
      "text/plain": [
       "<matplotlib.legend.Legend at 0x266cdec37c8>"
      ]
     },
     "execution_count": 320,
     "metadata": {},
     "output_type": "execute_result"
    },
    {
     "data": {
      "image/png": "[encoded data removed]",
      "text/plain": [
       "<Figure size 432x288 with 1 Axes>"
      ]
     },
     "metadata": {
      "needs_background": "light"
     },
     "output_type": "display_data"
    }
   ],
   "source": [
    "plt.close()\n",
    "plt.scatter(ainumai.get_tense().keys(), ainumai.get_tense().values(), label= \"airew\")\n",
    "plt.scatter(euhomai.get_tense().keys(), euhomai.get_tense().values(),label=\"euhomai\")\n",
    "plt.scatter(erizw.get_tense().keys(), erizw.get_tense().values(),label=\"erizw\")\n",
    "plt.scatter(mahomai.get_tense().keys(), mahomai.get_tense().values(),label=\"mahomai\")\n",
    "plt.legend()"
   ]
  },
  {
   "cell_type": "code",
   "execution_count": 318,
   "metadata": {},
   "outputs": [],
   "source": [
    "plt.close()"
   ]
  },
  {
   "cell_type": "code",
   "execution_count": null,
   "metadata": {},
   "outputs": [],
   "source": []
  }
 ],
 "metadata": {
  "kernelspec": {
   "display_name": "Python 3",
   "language": "python",
   "name": "python3"
  },
  "language_info": {
   "codemirror_mode": {
    "name": "ipython",
    "version": 3
   },
   "file_extension": ".py",
   "mimetype": "text/x-python",
   "name": "python",
   "nbconvert_exporter": "python",
   "pygments_lexer": "ipython3",
   "version": "3.7.7"
  }
 },
 "nbformat": 4,
 "nbformat_minor": 4
}
