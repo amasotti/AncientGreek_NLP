{
 "cells": [
  {
   "cell_type": "markdown",
   "metadata": {},
   "source": [
    "# Window with MT and Activa"
   ]
  },
  {
   "cell_type": "code",
   "execution_count": 1,
   "metadata": {},
   "outputs": [],
   "source": [
    "def load(txt):\n",
    "    with open(txt, \"r\",encoding = \"UTF-8\") as source:\n",
    "        testo = source.readlines()\n",
    "    return testo\n",
    "data = load(\"token_Ilias.txt\")"
   ]
  },
  {
   "cell_type": "code",
   "execution_count": 2,
   "metadata": {},
   "outputs": [
    {
     "data": {
      "text/plain": [
       "'θεά'"
      ]
     },
     "execution_count": 2,
     "metadata": {},
     "output_type": "execute_result"
    }
   ],
   "source": [
    "\"θεά\\n\"[:-1]"
   ]
  },
  {
   "cell_type": "code",
   "execution_count": 3,
   "metadata": {
    "scrolled": true
   },
   "outputs": [],
   "source": [
    "# extract erhomai und eimi\n",
    "erhomai = set()\n",
    "eimi = set()\n",
    "bainw = set()\n",
    "for d in data:\n",
    "    el = d.split('|')\n",
    "    if el[2] == \"ἔρχομαι\\n\":\n",
    "        erhomai.add(el[0])\n",
    "    if el[2] == \"εἶμι\\n\":\n",
    "        eimi.add(el[0])\n",
    "    if el[2] == \"βαίνω\\n\":\n",
    "        bainw.add(el[0])"
   ]
  },
  {
   "cell_type": "code",
   "execution_count": 4,
   "metadata": {},
   "outputs": [
    {
     "name": "stdout",
     "output_type": "stream",
     "text": [
      "{'εἰλήλουθα', 'εἰλήλουθας', 'εἰλήλουθεν', 'εἰλήλουθμεν', 'εἰληλούθει',\n",
      " 'ἐλευσόμεθʼ', 'ἐλεύσεσθαι', 'ἐλεύσεται', 'ἐλεύσομαι', 'ἐλεύσονται',\n",
      " 'ἐληλουθὼς', 'ἐλθέ', 'ἐλθέμεν', 'ἐλθέμεναι', 'ἐλθεῖν', 'ἐλθοῦσʼ', 'ἐλθοῦσα',\n",
      " 'ἐλθοῦσαν', 'ἐλθόντʼ', 'ἐλθόντα', 'ἐλθόντε', 'ἐλθόντες', 'ἐλθόντι', 'ἐλθών',\n",
      " 'ἐλθὲ', 'ἐλθὼν', 'ἐνθέμεναι', 'ἔλθητε', 'ἔλθητον', 'ἔλθοι', 'ἔλθοις', 'ἔλθω',\n",
      " 'ἔλθωμεν', 'ἔλθωσι', 'ἔλθῃ', 'ἔλθῃς', 'ἔλθῃσʼ', 'ἔλθῃσι', 'ἔνθʼ', 'ἔνθεο',\n",
      " 'ἔρχεαι', 'ἔρχεο', 'ἔρχεσθαι', 'ἔρχεσθε', 'ἔρχεσθον', 'ἔρχεται', 'ἔρχευ',\n",
      " 'ἔρχηται', 'ἔρχομαι', 'ἔρχονται', 'ἤλθετε', 'ἤλυθʼ', 'ἤλυθε', 'ἤλυθεν',\n",
      " 'ἤλυθες', 'ἤλυθον', 'ἤρχετο', 'ἦλθʼ', 'ἦλθε', 'ἦλθεν', 'ἦλθες', 'ἦλθον'}\n",
      "{'βάν', 'βάντες', 'βάτην', 'βέβασαν', 'βέβηκας', 'βέβηκε', 'βήμεναι', 'βήσαμεν',\n",
      " 'βήσεται', 'βήσετο', 'βήσομεν', 'βήτην', 'βαίην', 'βαίνει', 'βαίνων',\n",
      " 'βαινέτω', 'βαῖνε', 'βαῖνον', 'βείω', 'βεβάασι', 'βεβάμεν', 'βεβήκει',\n",
      " 'βεβαώς', 'βὰν', 'βὰς', 'βῆ', 'βῆναι', 'βῆσαν', 'βῆσε', 'βῆσεν', 'ἐβήσετο',\n",
      " 'ἐβήτην', 'ἐβεβήκει', 'ἔβαινε', 'ἔβαινεν', 'ἔβαινον', 'ἔβαν', 'ἔβη', 'ἔβην',\n",
      " 'ἔβης', 'ἔβησαν'}\n"
     ]
    }
   ],
   "source": [
    "from pprint import pprint\n",
    "pprint(erhomai, compact=True)\n",
    "pprint(bainw, compact=True)"
   ]
  },
  {
   "cell_type": "markdown",
   "metadata": {},
   "source": [
    "## Load corpus\n",
    "\n",
    "Ora abbiamo le forme, ci servono i contesti"
   ]
  },
  {
   "cell_type": "code",
   "execution_count": 5,
   "metadata": {},
   "outputs": [],
   "source": [
    "with open(\"IliasNew.txt\",\"r\",encoding=\"UTF-8\") as il:\n",
    "    ilias = il.read()"
   ]
  },
  {
   "cell_type": "code",
   "execution_count": 6,
   "metadata": {},
   "outputs": [],
   "source": [
    "import re\n",
    "regex = r\"\\n\"\n",
    "ilias = re.sub(regex, \" \",ilias, re.MULTILINE) # delete row break\n",
    "ilias = re.sub(\"n\", \"\",ilias, re.MULTILINE) # delete row break\n",
    "ilias = re.sub(r\";\",\"?\",ilias,re.MULTILINE) # change question mark\n",
    "ilias = re.sub(r\"(\\d+(\\.\\d+)?)\",\"\",ilias,0,re.MULTILINE) # delete verse number"
   ]
  },
  {
   "cell_type": "code",
   "execution_count": 7,
   "metadata": {},
   "outputs": [
    {
     "data": {
      "text/plain": [
       "'μῆνιν ἄειδε θεὰ Πηληϊάδεω Ἀχιλῆος οὐλομένην, ἣ μυρίʼ Ἀχαιοῖς ἄλγεʼ ἔθηκε, πολλὰς δʼ ἰφθίμους ψυχὰς Ἄϊδι προΐαψεν ἡρώων, αὐτοὺς δὲ ἑλώρια τεῦχε κύνεσσιν  οἰωνοῖσί τε πᾶσι, Διὸς δʼ ἐτελείετο βουλή, ἐξ οὗ δὴ τὰ πρῶτα διαστήτην ἐρίσαντε Ἀτρεΐδης τε ἄναξ ἀνδρῶν καὶ δῖος Ἀχιλλεύς.  τίς τʼ ἄρ σφωε θεῶν ἔριδι ξυνέηκε μάχεσθαι?\\nΛητοῦς καὶ Διὸς υἱός· ὃ γὰρ βασιλῆϊ χολωθεὶς\\n  νοῦσον ἀνὰ στρατὸν ὄρσε κακήν, ὀλέκοντο δὲ λαοί,\\nοὕνεκα τὸν Χρύσην ἠτίμασεν ἀρητῆρα\\nἈτρεΐδης· ὃ γὰρ ἦλθε θοὰς ἐπὶ νῆας Ἀχαιῶν\\nλυσόμενός τε θύγατρα φέρων τʼ ἀπερείσιʼ ἄποινα,\\nστέμματʼ ἔχων ἐν χερσὶν ἑκηβόλου Ἀπόλλωνος\\n  χρυσέῳ ἀνὰ σκήπτρῳ, καὶ λίσσετο πάντας Ἀχαιούς,\\nἈτρεΐδα δὲ μάλιστα δύω, κοσμήτορε λαῶν·\\nἈτρεΐδαι τε καὶ ἄλλοι ἐϋκνήμιδες Ἀχαιοί,\\nὑμῖν μὲν θεοὶ δοῖεν Ὀλύμπια δώματʼ ἔχοντες\\nἐκπέρσαι Πριάμοιο πόλιν, εὖ δʼ οἴκαδʼ ἱκέσθαι·\\n  παῖδα δʼ ἐμοὶ λύσαιτε φίλην, τὰ δʼ ἄποινα δέχεσθαι,\\nἁζόμενοι Διὸς υἱὸν ἑκηβόλον Ἀπόλλωνα.\\n\\nἔνθʼ ἄλλοι μὲν πάντες ἐπευφήμησαν Ἀχαιοὶ\\nαἰδεῖσθαί θʼ ἱερῆα καὶ ἀγλαὰ δέχθαι ἄποινα·\\nἀλλʼ οὐκ Ἀτρεΐδῃ'"
      ]
     },
     "execution_count": 7,
     "metadata": {},
     "output_type": "execute_result"
    }
   ],
   "source": [
    "ilias[:1000]"
   ]
  },
  {
   "cell_type": "code",
   "execution_count": 8,
   "metadata": {},
   "outputs": [],
   "source": [
    "# find sentences:\n",
    "from nltk import tokenize\n",
    "ilias_sentences = tokenize.sent_tokenize(ilias)"
   ]
  },
  {
   "cell_type": "code",
   "execution_count": 9,
   "metadata": {},
   "outputs": [],
   "source": [
    "corpus = [[\"<START>\"] + [w.lower() for w in sent.split()] + [\"<END>\"] for sent in ilias_sentences]"
   ]
  },
  {
   "cell_type": "code",
   "execution_count": 10,
   "metadata": {},
   "outputs": [],
   "source": [
    "with open('stopwords.txt',\"r\",encoding=\"UTF-8\") as stopw:\n",
    "    stopwords = stopw.read()"
   ]
  },
  {
   "cell_type": "code",
   "execution_count": 11,
   "metadata": {},
   "outputs": [
    {
     "data": {
      "text/plain": [
       "['ἱ', 'αἵ']"
      ]
     },
     "execution_count": 11,
     "metadata": {},
     "output_type": "execute_result"
    }
   ],
   "source": [
    "stopwords = stopwords.split('\\n')\n",
    "stopwords[:2]"
   ]
  },
  {
   "cell_type": "code",
   "execution_count": 12,
   "metadata": {},
   "outputs": [],
   "source": [
    "for sent_ind in range(len(corpus)):\n",
    "    corpus[sent_ind] = [w for w in corpus[sent_ind] if w not in stopwords]"
   ]
  },
  {
   "cell_type": "code",
   "execution_count": 14,
   "metadata": {},
   "outputs": [
    {
     "name": "stdout",
     "output_type": "stream",
     "text": [
      "['<START>', 'μῆνιν', 'ἄειδε', 'θεὰ', 'πηληϊάδεω', 'ἀχιλῆος', 'οὐλομένην,',\n",
      " 'μυρίʼ', 'ἀχαιοῖς', 'ἄλγεʼ', 'ἔθηκε,', 'πολλὰς', 'ἰφθίμους', 'ψυχὰς', 'ἄϊδι',\n",
      " 'προΐαψεν', 'ἡρώων,', 'αὐτοὺς', 'ἑλώρια', 'τεῦχε', 'κύνεσσιν', 'οἰωνοῖσί',\n",
      " 'πᾶσι,', 'διὸς', 'ἐτελείετο', 'βουλή,', 'ἐξ', 'οὗ', 'δὴ', 'πρῶτα', 'διαστήτην',\n",
      " 'ἐρίσαντε', 'ἀτρεΐδης', 'ἄναξ', 'ἀνδρῶν', 'δῖος', 'ἀχιλλεύς.', '<END>']\n"
     ]
    }
   ],
   "source": [
    "pprint(corpus[0], compact=True)"
   ]
  },
  {
   "cell_type": "markdown",
   "metadata": {},
   "source": [
    "## Fenster search"
   ]
  },
  {
   "cell_type": "code",
   "execution_count": 15,
   "metadata": {},
   "outputs": [],
   "source": [
    "# find 5 neighbours of erhomai\n",
    "\n",
    "def allIndices(sent, wanted):\n",
    "    from more_itertools import locate\n",
    "    indices = list(locate(sent, lambda a : a == wanted))\n",
    "    return indices"
   ]
  },
  {
   "cell_type": "code",
   "execution_count": 16,
   "metadata": {},
   "outputs": [],
   "source": [
    "def find_neighbours(corpus,target_list,window=1):\n",
    "    context = []\n",
    "    # iterate per verb_form\n",
    "    for verb_form in list(target_list):\n",
    "        # iterate per sentence\n",
    "        for sentence in corpus:\n",
    "            # if the wanted form is in the sentence, extract all the indices\n",
    "            if verb_form in sentence:\n",
    "                indices = allIndices(sentence,verb_form)\n",
    "                \n",
    "                # for each occurrence\n",
    "                for occurrence in indices:\n",
    "                    for j in range(max(occurrence-window,0),min(occurrence+window, len(sentence))):\n",
    "                        if sentence[j] not in stopwords:\n",
    "                            context.append(sentence[j])\n",
    "    return context\n",
    "                                \n",
    "                \n",
    "    "
   ]
  },
  {
   "cell_type": "code",
   "execution_count": 17,
   "metadata": {},
   "outputs": [],
   "source": [
    "from collections import Counter\n",
    "cont_erhomai = find_neighbours(corpus,erhomai,6)\n",
    "cont_erhomai_enumerate = Counter(cont_erhomai)\n",
    "\n",
    "cont_eimi = find_neighbours(corpus,eimi,6)\n",
    "cont_eimi_enumerate = Counter(cont_eimi)\n",
    "\n",
    "cont_bainw = find_neighbours(corpus,bainw,6)\n",
    "cont_bainw_enumerate = Counter(cont_bainw)"
   ]
  },
  {
   "cell_type": "code",
   "execution_count": 38,
   "metadata": {},
   "outputs": [
    {
     "name": "stdout",
     "output_type": "stream",
     "text": [
      "Most common neighbours of ἔρχομαι\n",
      "[('<START>', 198), ('ἔνθʼ', 178), ('ἦλθε', 102), ('<END>', 91), ('ἐλθὼν', 53),\n",
      " ('μὲν', 51), ('ἐς', 43), ('ἐπὶ', 40), ('γὰρ', 39), ('δέ', 37)]\n",
      "\n",
      "\n",
      "\n",
      "\n",
      "Most common neighbours of εἶμι\n",
      "[('<START>', 123), ('<END>', 71), ('ἰὼν', 56), ('ἰέναι', 50), ('νῆας', 43),\n",
      " ('ἐς', 38), ('βῆ', 37), ('ἐπὶ', 36), ('ἀλλʼ', 34), ('ἴθι', 34)]\n",
      "\n",
      "\n",
      "\n",
      "\n",
      "Most common neighbours of Bainw\n",
      "[('βῆ', 162), ('<START>', 113), ('ὣς', 54), ('<END>', 53), ('ἐπὶ', 46),\n",
      " ('ἐν', 36), ('ῥʼ', 36), ('ἔβη', 36), ('ἐς', 32), ('μὲν', 32)]\n"
     ]
    }
   ],
   "source": [
    "# print most common for both counters:\n",
    "print('Most common neighbours of ἔρχομαι')\n",
    "pprint(cont_erhomai_enumerate.most_common(10),compact=True)\n",
    "print(\"\\n\"*3)\n",
    "print('Most common neighbours of εἶμι')\n",
    "pprint(cont_eimi_enumerate.most_common(10),compact=True)\n",
    "print(\"\\n\"*3)\n",
    "print('Most common neighbours of Bainw')\n",
    "pprint(cont_bainw_enumerate.most_common(10),compact=True)"
   ]
  }
 ],
 "metadata": {
  "kernelspec": {
   "display_name": "Python 3",
   "language": "python",
   "name": "python3"
  },
  "language_info": {
   "codemirror_mode": {
    "name": "ipython",
    "version": 3
   },
   "file_extension": ".py",
   "mimetype": "text/x-python",
   "name": "python",
   "nbconvert_exporter": "python",
   "pygments_lexer": "ipython3",
   "version": "3.6.10"
  }
 },
 "nbformat": 4,
 "nbformat_minor": 4
}
