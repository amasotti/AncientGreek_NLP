{
 "cells": [
  {
   "cell_type": "markdown",
   "metadata": {},
   "source": [
    "# First test Pytorch"
   ]
  },
  {
   "cell_type": "code",
   "execution_count": 1,
   "metadata": {},
   "outputs": [
    {
     "data": {
      "text/plain": [
       "True"
      ]
     },
     "execution_count": 1,
     "metadata": {},
     "output_type": "execute_result"
    }
   ],
   "source": [
    "import torch\n",
    "torch.cuda.is_available()"
   ]
  },
  {
   "cell_type": "code",
   "execution_count": 2,
   "metadata": {},
   "outputs": [],
   "source": [
    "import torch.nn as nn\n",
    "import torch.nn.functional as F\n",
    "import torch.optim as optim"
   ]
  },
  {
   "cell_type": "code",
   "execution_count": 3,
   "metadata": {},
   "outputs": [],
   "source": [
    "import numpy as np\n",
    "import pandas as pd\n",
    "import matplotlib.pyplot as plt\n",
    "import seaborn as sns\n",
    "%matplotlib inline"
   ]
  },
  {
   "cell_type": "code",
   "execution_count": 4,
   "metadata": {},
   "outputs": [],
   "source": [
    "data = pd.read_csv(\"data_from_db.csv\",sep=\"|\")"
   ]
  },
  {
   "cell_type": "code",
   "execution_count": 5,
   "metadata": {},
   "outputs": [
    {
     "data": {
      "text/plain": [
       "(2481, 38)"
      ]
     },
     "execution_count": 5,
     "metadata": {},
     "output_type": "execute_result"
    }
   ],
   "source": [
    "# shape of my data\n",
    "data.shape"
   ]
  },
  {
   "cell_type": "code",
   "execution_count": 6,
   "metadata": {},
   "outputs": [
    {
     "data": {
      "text/html": [
       "<div>\n",
       "<style scoped>\n",
       "    .dataframe tbody tr th:only-of-type {\n",
       "        vertical-align: middle;\n",
       "    }\n",
       "\n",
       "    .dataframe tbody tr th {\n",
       "        vertical-align: top;\n",
       "    }\n",
       "\n",
       "    .dataframe thead th {\n",
       "        text-align: right;\n",
       "    }\n",
       "</style>\n",
       "<table border=\"1\" class=\"dataframe\">\n",
       "  <thead>\n",
       "    <tr style=\"text-align: right;\">\n",
       "      <th></th>\n",
       "      <th>lemma</th>\n",
       "      <th>occurrences</th>\n",
       "      <th>noun</th>\n",
       "      <th>verb</th>\n",
       "      <th>adjective</th>\n",
       "      <th>adverb</th>\n",
       "      <th>article</th>\n",
       "      <th>particle</th>\n",
       "      <th>conjunction</th>\n",
       "      <th>preposition</th>\n",
       "      <th>...</th>\n",
       "      <th>passive</th>\n",
       "      <th>middle</th>\n",
       "      <th>mediopassive</th>\n",
       "      <th>nom</th>\n",
       "      <th>gen</th>\n",
       "      <th>dat</th>\n",
       "      <th>acc</th>\n",
       "      <th>voc</th>\n",
       "      <th>loc</th>\n",
       "      <th>classe</th>\n",
       "    </tr>\n",
       "  </thead>\n",
       "  <tbody>\n",
       "    <tr>\n",
       "      <th>0</th>\n",
       "      <td>ἀμφιπονέομαι</td>\n",
       "      <td>5</td>\n",
       "      <td>0.13333</td>\n",
       "      <td>0.04000</td>\n",
       "      <td>0.06667</td>\n",
       "      <td>0.04000</td>\n",
       "      <td>0.0</td>\n",
       "      <td>0.01333</td>\n",
       "      <td>0.01333</td>\n",
       "      <td>0.02667</td>\n",
       "      <td>...</td>\n",
       "      <td>0.00000</td>\n",
       "      <td>0.0000</td>\n",
       "      <td>0.01333</td>\n",
       "      <td>0.04000</td>\n",
       "      <td>0.01333</td>\n",
       "      <td>0.09333</td>\n",
       "      <td>0.08000</td>\n",
       "      <td>0.00000</td>\n",
       "      <td>0.0</td>\n",
       "      <td>1.0</td>\n",
       "    </tr>\n",
       "    <tr>\n",
       "      <th>1</th>\n",
       "      <td>σκάζω</td>\n",
       "      <td>4</td>\n",
       "      <td>0.10000</td>\n",
       "      <td>0.08333</td>\n",
       "      <td>0.10000</td>\n",
       "      <td>0.00000</td>\n",
       "      <td>0.0</td>\n",
       "      <td>0.00000</td>\n",
       "      <td>0.00000</td>\n",
       "      <td>0.03333</td>\n",
       "      <td>...</td>\n",
       "      <td>0.01667</td>\n",
       "      <td>0.0000</td>\n",
       "      <td>0.01667</td>\n",
       "      <td>0.11667</td>\n",
       "      <td>0.05000</td>\n",
       "      <td>0.01667</td>\n",
       "      <td>0.03333</td>\n",
       "      <td>0.00000</td>\n",
       "      <td>0.0</td>\n",
       "      <td>0.0</td>\n",
       "    </tr>\n",
       "    <tr>\n",
       "      <th>2</th>\n",
       "      <td>ὑπεξάγω</td>\n",
       "      <td>3</td>\n",
       "      <td>0.02222</td>\n",
       "      <td>0.04444</td>\n",
       "      <td>0.06667</td>\n",
       "      <td>0.06667</td>\n",
       "      <td>0.0</td>\n",
       "      <td>0.00000</td>\n",
       "      <td>0.02222</td>\n",
       "      <td>0.02222</td>\n",
       "      <td>...</td>\n",
       "      <td>0.00000</td>\n",
       "      <td>0.0000</td>\n",
       "      <td>0.00000</td>\n",
       "      <td>0.02222</td>\n",
       "      <td>0.00000</td>\n",
       "      <td>0.02222</td>\n",
       "      <td>0.06667</td>\n",
       "      <td>0.00000</td>\n",
       "      <td>0.0</td>\n",
       "      <td>0.0</td>\n",
       "    </tr>\n",
       "    <tr>\n",
       "      <th>3</th>\n",
       "      <td>πλέω</td>\n",
       "      <td>72</td>\n",
       "      <td>0.06944</td>\n",
       "      <td>0.05833</td>\n",
       "      <td>0.05093</td>\n",
       "      <td>0.02315</td>\n",
       "      <td>0.0</td>\n",
       "      <td>0.00833</td>\n",
       "      <td>0.00833</td>\n",
       "      <td>0.01111</td>\n",
       "      <td>...</td>\n",
       "      <td>0.00185</td>\n",
       "      <td>0.0037</td>\n",
       "      <td>0.01019</td>\n",
       "      <td>0.05000</td>\n",
       "      <td>0.02315</td>\n",
       "      <td>0.02593</td>\n",
       "      <td>0.04815</td>\n",
       "      <td>0.00093</td>\n",
       "      <td>0.0</td>\n",
       "      <td>0.0</td>\n",
       "    </tr>\n",
       "    <tr>\n",
       "      <th>4</th>\n",
       "      <td>ὑφίημι</td>\n",
       "      <td>2</td>\n",
       "      <td>0.23333</td>\n",
       "      <td>0.10000</td>\n",
       "      <td>0.03333</td>\n",
       "      <td>0.03333</td>\n",
       "      <td>0.0</td>\n",
       "      <td>0.00000</td>\n",
       "      <td>0.00000</td>\n",
       "      <td>0.10000</td>\n",
       "      <td>...</td>\n",
       "      <td>0.00000</td>\n",
       "      <td>0.0000</td>\n",
       "      <td>0.00000</td>\n",
       "      <td>0.00000</td>\n",
       "      <td>0.00000</td>\n",
       "      <td>0.16667</td>\n",
       "      <td>0.10000</td>\n",
       "      <td>0.00000</td>\n",
       "      <td>0.0</td>\n",
       "      <td>NaN</td>\n",
       "    </tr>\n",
       "  </tbody>\n",
       "</table>\n",
       "<p>5 rows × 38 columns</p>\n",
       "</div>"
      ],
      "text/plain": [
       "          lemma  occurrences     noun     verb  adjective   adverb  article  \\\n",
       "0  ἀμφιπονέομαι            5  0.13333  0.04000    0.06667  0.04000      0.0   \n",
       "1         σκάζω            4  0.10000  0.08333    0.10000  0.00000      0.0   \n",
       "2       ὑπεξάγω            3  0.02222  0.04444    0.06667  0.06667      0.0   \n",
       "3          πλέω           72  0.06944  0.05833    0.05093  0.02315      0.0   \n",
       "4        ὑφίημι            2  0.23333  0.10000    0.03333  0.03333      0.0   \n",
       "\n",
       "   particle  conjunction  preposition  ...  passive  middle  mediopassive  \\\n",
       "0   0.01333      0.01333      0.02667  ...  0.00000  0.0000       0.01333   \n",
       "1   0.00000      0.00000      0.03333  ...  0.01667  0.0000       0.01667   \n",
       "2   0.00000      0.02222      0.02222  ...  0.00000  0.0000       0.00000   \n",
       "3   0.00833      0.00833      0.01111  ...  0.00185  0.0037       0.01019   \n",
       "4   0.00000      0.00000      0.10000  ...  0.00000  0.0000       0.00000   \n",
       "\n",
       "       nom      gen      dat      acc      voc  loc  classe  \n",
       "0  0.04000  0.01333  0.09333  0.08000  0.00000  0.0     1.0  \n",
       "1  0.11667  0.05000  0.01667  0.03333  0.00000  0.0     0.0  \n",
       "2  0.02222  0.00000  0.02222  0.06667  0.00000  0.0     0.0  \n",
       "3  0.05000  0.02315  0.02593  0.04815  0.00093  0.0     0.0  \n",
       "4  0.00000  0.00000  0.16667  0.10000  0.00000  0.0     NaN  \n",
       "\n",
       "[5 rows x 38 columns]"
      ]
     },
     "execution_count": 6,
     "metadata": {},
     "output_type": "execute_result"
    }
   ],
   "source": [
    "data.head()"
   ]
  },
  {
   "cell_type": "code",
   "execution_count": 7,
   "metadata": {},
   "outputs": [],
   "source": [
    "data['classe'] = pd.Categorical(data['classe'])\n",
    "data = data.dropna(0)"
   ]
  },
  {
   "cell_type": "markdown",
   "metadata": {},
   "source": [
    "## Exploratory analysis"
   ]
  },
  {
   "cell_type": "code",
   "execution_count": 8,
   "metadata": {},
   "outputs": [],
   "source": [
    "fig_size = plt.rcParams[\"figure.figsize\"]\n",
    "fig_size[0] = 10\n",
    "fig_size[1] = 8\n",
    "plt.rcParams[\"figure.figsize\"] = fig_size"
   ]
  },
  {
   "cell_type": "code",
   "execution_count": 9,
   "metadata": {},
   "outputs": [
    {
     "data": {
      "text/plain": [
       "<matplotlib.axes._subplots.AxesSubplot at 0x1d77431a488>"
      ]
     },
     "execution_count": 9,
     "metadata": {},
     "output_type": "execute_result"
    },
    {
     "data": {
      "image/png": "[encoded data removed]",
      "text/plain": [
       "<Figure size 720x576 with 1 Axes>"
      ]
     },
     "metadata": {},
     "output_type": "display_data"
    }
   ],
   "source": [
    "data['classe'].value_counts().plot(kind='pie', autopct='%1.5f%%', colors=['skyblue', 'orange','green'], explode=(0.05, 0.05))"
   ]
  },
  {
   "cell_type": "code",
   "execution_count": 10,
   "metadata": {},
   "outputs": [
    {
     "data": {
      "text/plain": [
       "<matplotlib.axes._subplots.AxesSubplot at 0x1d7747ab408>"
      ]
     },
     "execution_count": 10,
     "metadata": {},
     "output_type": "execute_result"
    },
    {
     "data": {
      "image/png": "[encoded data removed]",
      "text/plain": [
       "<Figure size 720x576 with 1 Axes>"
      ]
     },
     "metadata": {
      "needs_background": "light"
     },
     "output_type": "display_data"
    }
   ],
   "source": [
    "sns.countplot(x='classe', data=data)"
   ]
  },
  {
   "cell_type": "code",
   "execution_count": 11,
   "metadata": {
    "scrolled": true
   },
   "outputs": [
    {
     "data": {
      "text/plain": [
       "['lemma',\n",
       " 'occurrences',\n",
       " 'noun',\n",
       " 'verb',\n",
       " 'adjective',\n",
       " 'adverb',\n",
       " 'article',\n",
       " 'particle',\n",
       " 'conjunction',\n",
       " 'preposition',\n",
       " 'pronoun',\n",
       " 'numeral',\n",
       " 'interjection',\n",
       " 'punctuation',\n",
       " 'present',\n",
       " 'imperfect',\n",
       " 'pluperfect',\n",
       " 'perfect',\n",
       " 'futPerfect',\n",
       " 'future',\n",
       " 'aorist',\n",
       " 'indicative',\n",
       " 'subjunctive',\n",
       " 'optative',\n",
       " 'infinitive',\n",
       " 'imperative',\n",
       " 'participle',\n",
       " 'active',\n",
       " 'passive',\n",
       " 'middle',\n",
       " 'mediopassive',\n",
       " 'nom',\n",
       " 'gen',\n",
       " 'dat',\n",
       " 'acc',\n",
       " 'voc',\n",
       " 'loc',\n",
       " 'classe']"
      ]
     },
     "execution_count": 11,
     "metadata": {},
     "output_type": "execute_result"
    }
   ],
   "source": [
    "list(data.columns)"
   ]
  },
  {
   "cell_type": "code",
   "execution_count": 12,
   "metadata": {},
   "outputs": [],
   "source": [
    "categorical_columns = ['lemma']\n",
    "numerical_columns = ['occurrences', 'noun', 'verb', 'adjective', 'adverb',\n",
    "       'article', 'particle', 'conjunction', 'preposition', 'pronoun',\n",
    "       'numeral', 'interjection', 'punctuation', 'present', 'imperfect',\n",
    "       'pluperfect', 'perfect', 'futPerfect', 'future', 'aorist', 'indicative',\n",
    "       'subjunctive', 'optative', 'infinitive', 'imperative', 'participle',\n",
    "       'active', 'passive', 'middle', 'mediopassive', 'nom', 'gen', 'dat',\n",
    "       'acc', 'voc', 'loc']"
   ]
  },
  {
   "cell_type": "code",
   "execution_count": 13,
   "metadata": {},
   "outputs": [],
   "source": [
    "outputs = ['classe']"
   ]
  },
  {
   "cell_type": "code",
   "execution_count": 14,
   "metadata": {
    "scrolled": true
   },
   "outputs": [
    {
     "data": {
      "text/plain": [
       "lemma             object\n",
       "occurrences        int64\n",
       "noun             float64\n",
       "verb             float64\n",
       "adjective        float64\n",
       "adverb           float64\n",
       "article          float64\n",
       "particle         float64\n",
       "conjunction      float64\n",
       "preposition      float64\n",
       "pronoun          float64\n",
       "numeral          float64\n",
       "interjection     float64\n",
       "punctuation      float64\n",
       "present          float64\n",
       "imperfect        float64\n",
       "pluperfect       float64\n",
       "perfect          float64\n",
       "futPerfect       float64\n",
       "future           float64\n",
       "aorist           float64\n",
       "indicative       float64\n",
       "subjunctive      float64\n",
       "optative         float64\n",
       "infinitive       float64\n",
       "imperative       float64\n",
       "participle       float64\n",
       "active           float64\n",
       "passive          float64\n",
       "middle           float64\n",
       "mediopassive     float64\n",
       "nom              float64\n",
       "gen              float64\n",
       "dat              float64\n",
       "acc              float64\n",
       "voc              float64\n",
       "loc              float64\n",
       "classe          category\n",
       "dtype: object"
      ]
     },
     "execution_count": 14,
     "metadata": {},
     "output_type": "execute_result"
    }
   ],
   "source": [
    "data.dtypes"
   ]
  },
  {
   "cell_type": "markdown",
   "metadata": {},
   "source": [
    "## Balancing\n",
    "\n",
    "After training once I had the suspect that the model in doubt decides for active, since these are much more common. So let's try to reduce the data set so that we have equal probability of having a medium or active as output."
   ]
  },
  {
   "cell_type": "code",
   "execution_count": 15,
   "metadata": {},
   "outputs": [
    {
     "name": "stdout",
     "output_type": "stream",
     "text": [
      "Activa: 1832 | Media : 402\n"
     ]
    }
   ],
   "source": [
    "# exploration\n",
    "print(f\"Activa: {sum(data['classe'] == 0.0)} | Media : {sum(data['classe'] == 1.0)}\")"
   ]
  },
  {
   "cell_type": "code",
   "execution_count": 16,
   "metadata": {},
   "outputs": [],
   "source": [
    "data = data.sort_values(by=['classe'])"
   ]
  },
  {
   "cell_type": "code",
   "execution_count": 17,
   "metadata": {},
   "outputs": [
    {
     "data": {
      "text/html": [
       "<div>\n",
       "<style scoped>\n",
       "    .dataframe tbody tr th:only-of-type {\n",
       "        vertical-align: middle;\n",
       "    }\n",
       "\n",
       "    .dataframe tbody tr th {\n",
       "        vertical-align: top;\n",
       "    }\n",
       "\n",
       "    .dataframe thead th {\n",
       "        text-align: right;\n",
       "    }\n",
       "</style>\n",
       "<table border=\"1\" class=\"dataframe\">\n",
       "  <thead>\n",
       "    <tr style=\"text-align: right;\">\n",
       "      <th></th>\n",
       "      <th>lemma</th>\n",
       "      <th>occurrences</th>\n",
       "      <th>noun</th>\n",
       "      <th>verb</th>\n",
       "      <th>adjective</th>\n",
       "      <th>adverb</th>\n",
       "      <th>article</th>\n",
       "      <th>particle</th>\n",
       "      <th>conjunction</th>\n",
       "      <th>preposition</th>\n",
       "      <th>...</th>\n",
       "      <th>passive</th>\n",
       "      <th>middle</th>\n",
       "      <th>mediopassive</th>\n",
       "      <th>nom</th>\n",
       "      <th>gen</th>\n",
       "      <th>dat</th>\n",
       "      <th>acc</th>\n",
       "      <th>voc</th>\n",
       "      <th>loc</th>\n",
       "      <th>classe</th>\n",
       "    </tr>\n",
       "  </thead>\n",
       "  <tbody>\n",
       "    <tr>\n",
       "      <th>1237</th>\n",
       "      <td>ἐπηπύω</td>\n",
       "      <td>2</td>\n",
       "      <td>0.20000</td>\n",
       "      <td>0.06667</td>\n",
       "      <td>0.06667</td>\n",
       "      <td>0.03333</td>\n",
       "      <td>0.0</td>\n",
       "      <td>0.03333</td>\n",
       "      <td>0.00000</td>\n",
       "      <td>0.03333</td>\n",
       "      <td>...</td>\n",
       "      <td>0.00000</td>\n",
       "      <td>0.03333</td>\n",
       "      <td>0.03333</td>\n",
       "      <td>0.06667</td>\n",
       "      <td>0.00000</td>\n",
       "      <td>0.06667</td>\n",
       "      <td>0.10000</td>\n",
       "      <td>0.03333</td>\n",
       "      <td>0.0</td>\n",
       "      <td>0.0</td>\n",
       "    </tr>\n",
       "    <tr>\n",
       "      <th>1582</th>\n",
       "      <td>ὑποδείδω</td>\n",
       "      <td>28</td>\n",
       "      <td>0.07619</td>\n",
       "      <td>0.08095</td>\n",
       "      <td>0.04762</td>\n",
       "      <td>0.02857</td>\n",
       "      <td>0.0</td>\n",
       "      <td>0.01429</td>\n",
       "      <td>0.01667</td>\n",
       "      <td>0.01190</td>\n",
       "      <td>...</td>\n",
       "      <td>0.00714</td>\n",
       "      <td>0.01190</td>\n",
       "      <td>0.01190</td>\n",
       "      <td>0.05000</td>\n",
       "      <td>0.02619</td>\n",
       "      <td>0.01905</td>\n",
       "      <td>0.06429</td>\n",
       "      <td>0.00000</td>\n",
       "      <td>0.0</td>\n",
       "      <td>0.0</td>\n",
       "    </tr>\n",
       "    <tr>\n",
       "      <th>1581</th>\n",
       "      <td>δαιδάλλω</td>\n",
       "      <td>4</td>\n",
       "      <td>0.13333</td>\n",
       "      <td>0.11667</td>\n",
       "      <td>0.11667</td>\n",
       "      <td>0.01667</td>\n",
       "      <td>0.0</td>\n",
       "      <td>0.00000</td>\n",
       "      <td>0.00000</td>\n",
       "      <td>0.03333</td>\n",
       "      <td>...</td>\n",
       "      <td>0.00000</td>\n",
       "      <td>0.01667</td>\n",
       "      <td>0.01667</td>\n",
       "      <td>0.01667</td>\n",
       "      <td>0.00000</td>\n",
       "      <td>0.05000</td>\n",
       "      <td>0.20000</td>\n",
       "      <td>0.00000</td>\n",
       "      <td>0.0</td>\n",
       "      <td>0.0</td>\n",
       "    </tr>\n",
       "    <tr>\n",
       "      <th>1580</th>\n",
       "      <td>ὑπεκπρορέω</td>\n",
       "      <td>3</td>\n",
       "      <td>0.06667</td>\n",
       "      <td>0.06667</td>\n",
       "      <td>0.06667</td>\n",
       "      <td>0.04444</td>\n",
       "      <td>0.0</td>\n",
       "      <td>0.02222</td>\n",
       "      <td>0.00000</td>\n",
       "      <td>0.00000</td>\n",
       "      <td>...</td>\n",
       "      <td>0.00000</td>\n",
       "      <td>0.00000</td>\n",
       "      <td>0.00000</td>\n",
       "      <td>0.04444</td>\n",
       "      <td>0.00000</td>\n",
       "      <td>0.00000</td>\n",
       "      <td>0.11111</td>\n",
       "      <td>0.00000</td>\n",
       "      <td>0.0</td>\n",
       "      <td>0.0</td>\n",
       "    </tr>\n",
       "    <tr>\n",
       "      <th>1579</th>\n",
       "      <td>θαλπιάω</td>\n",
       "      <td>3</td>\n",
       "      <td>0.11111</td>\n",
       "      <td>0.04444</td>\n",
       "      <td>0.04444</td>\n",
       "      <td>0.06667</td>\n",
       "      <td>0.0</td>\n",
       "      <td>0.00000</td>\n",
       "      <td>0.02222</td>\n",
       "      <td>0.00000</td>\n",
       "      <td>...</td>\n",
       "      <td>0.00000</td>\n",
       "      <td>0.00000</td>\n",
       "      <td>0.02222</td>\n",
       "      <td>0.04444</td>\n",
       "      <td>0.00000</td>\n",
       "      <td>0.00000</td>\n",
       "      <td>0.11111</td>\n",
       "      <td>0.00000</td>\n",
       "      <td>0.0</td>\n",
       "      <td>0.0</td>\n",
       "    </tr>\n",
       "  </tbody>\n",
       "</table>\n",
       "<p>5 rows × 38 columns</p>\n",
       "</div>"
      ],
      "text/plain": [
       "           lemma  occurrences     noun     verb  adjective   adverb  article  \\\n",
       "1237      ἐπηπύω            2  0.20000  0.06667    0.06667  0.03333      0.0   \n",
       "1582    ὑποδείδω           28  0.07619  0.08095    0.04762  0.02857      0.0   \n",
       "1581    δαιδάλλω            4  0.13333  0.11667    0.11667  0.01667      0.0   \n",
       "1580  ὑπεκπρορέω            3  0.06667  0.06667    0.06667  0.04444      0.0   \n",
       "1579     θαλπιάω            3  0.11111  0.04444    0.04444  0.06667      0.0   \n",
       "\n",
       "      particle  conjunction  preposition  ...  passive   middle  mediopassive  \\\n",
       "1237   0.03333      0.00000      0.03333  ...  0.00000  0.03333       0.03333   \n",
       "1582   0.01429      0.01667      0.01190  ...  0.00714  0.01190       0.01190   \n",
       "1581   0.00000      0.00000      0.03333  ...  0.00000  0.01667       0.01667   \n",
       "1580   0.02222      0.00000      0.00000  ...  0.00000  0.00000       0.00000   \n",
       "1579   0.00000      0.02222      0.00000  ...  0.00000  0.00000       0.02222   \n",
       "\n",
       "          nom      gen      dat      acc      voc  loc  classe  \n",
       "1237  0.06667  0.00000  0.06667  0.10000  0.03333  0.0     0.0  \n",
       "1582  0.05000  0.02619  0.01905  0.06429  0.00000  0.0     0.0  \n",
       "1581  0.01667  0.00000  0.05000  0.20000  0.00000  0.0     0.0  \n",
       "1580  0.04444  0.00000  0.00000  0.11111  0.00000  0.0     0.0  \n",
       "1579  0.04444  0.00000  0.00000  0.11111  0.00000  0.0     0.0  \n",
       "\n",
       "[5 rows x 38 columns]"
      ]
     },
     "execution_count": 17,
     "metadata": {},
     "output_type": "execute_result"
    }
   ],
   "source": [
    "data.head()"
   ]
  },
  {
   "cell_type": "code",
   "execution_count": 18,
   "metadata": {},
   "outputs": [],
   "source": [
    "data_a = data[0:400][['nom',\"gen\",\"dat\",\"acc\",\"voc\",\"loc\",\"classe\"]]\n",
    "data_m = data[1833:1833+400][['nom',\"gen\",\"dat\",\"acc\",\"voc\",\"loc\",\"classe\"]]\n",
    "frames = [data_a, data_m]\n",
    "data = pd.concat(frames)"
   ]
  },
  {
   "cell_type": "code",
   "execution_count": 19,
   "metadata": {},
   "outputs": [
    {
     "name": "stdout",
     "output_type": "stream",
     "text": [
      "Activa: 400 | Media : 400\n"
     ]
    }
   ],
   "source": [
    "# exploration\n",
    "print(f\"Activa: {sum(data['classe'] == 0.0)} | Media : {sum(data['classe'] == 1.0)}\")"
   ]
  },
  {
   "cell_type": "code",
   "execution_count": 20,
   "metadata": {},
   "outputs": [
    {
     "data": {
      "text/plain": [
       "<matplotlib.axes._subplots.AxesSubplot at 0x1d77465a388>"
      ]
     },
     "execution_count": 20,
     "metadata": {},
     "output_type": "execute_result"
    },
    {
     "data": {
      "image/png": "[encoded data removed]",
      "text/plain": [
       "<Figure size 720x576 with 1 Axes>"
      ]
     },
     "metadata": {
      "needs_background": "light"
     },
     "output_type": "display_data"
    }
   ],
   "source": [
    "sns.countplot(x='classe', data=data)"
   ]
  },
  {
   "cell_type": "code",
   "execution_count": 21,
   "metadata": {},
   "outputs": [
    {
     "data": {
      "text/html": [
       "<div>\n",
       "<style scoped>\n",
       "    .dataframe tbody tr th:only-of-type {\n",
       "        vertical-align: middle;\n",
       "    }\n",
       "\n",
       "    .dataframe tbody tr th {\n",
       "        vertical-align: top;\n",
       "    }\n",
       "\n",
       "    .dataframe thead th {\n",
       "        text-align: right;\n",
       "    }\n",
       "</style>\n",
       "<table border=\"1\" class=\"dataframe\">\n",
       "  <thead>\n",
       "    <tr style=\"text-align: right;\">\n",
       "      <th></th>\n",
       "      <th>nom</th>\n",
       "      <th>gen</th>\n",
       "      <th>dat</th>\n",
       "      <th>acc</th>\n",
       "      <th>voc</th>\n",
       "      <th>loc</th>\n",
       "      <th>classe</th>\n",
       "    </tr>\n",
       "  </thead>\n",
       "  <tbody>\n",
       "    <tr>\n",
       "      <th>1237</th>\n",
       "      <td>0.06667</td>\n",
       "      <td>0.00000</td>\n",
       "      <td>0.06667</td>\n",
       "      <td>0.10000</td>\n",
       "      <td>0.03333</td>\n",
       "      <td>0.0</td>\n",
       "      <td>0.0</td>\n",
       "    </tr>\n",
       "    <tr>\n",
       "      <th>1582</th>\n",
       "      <td>0.05000</td>\n",
       "      <td>0.02619</td>\n",
       "      <td>0.01905</td>\n",
       "      <td>0.06429</td>\n",
       "      <td>0.00000</td>\n",
       "      <td>0.0</td>\n",
       "      <td>0.0</td>\n",
       "    </tr>\n",
       "    <tr>\n",
       "      <th>1581</th>\n",
       "      <td>0.01667</td>\n",
       "      <td>0.00000</td>\n",
       "      <td>0.05000</td>\n",
       "      <td>0.20000</td>\n",
       "      <td>0.00000</td>\n",
       "      <td>0.0</td>\n",
       "      <td>0.0</td>\n",
       "    </tr>\n",
       "    <tr>\n",
       "      <th>1580</th>\n",
       "      <td>0.04444</td>\n",
       "      <td>0.00000</td>\n",
       "      <td>0.00000</td>\n",
       "      <td>0.11111</td>\n",
       "      <td>0.00000</td>\n",
       "      <td>0.0</td>\n",
       "      <td>0.0</td>\n",
       "    </tr>\n",
       "    <tr>\n",
       "      <th>1579</th>\n",
       "      <td>0.04444</td>\n",
       "      <td>0.00000</td>\n",
       "      <td>0.00000</td>\n",
       "      <td>0.11111</td>\n",
       "      <td>0.00000</td>\n",
       "      <td>0.0</td>\n",
       "      <td>0.0</td>\n",
       "    </tr>\n",
       "  </tbody>\n",
       "</table>\n",
       "</div>"
      ],
      "text/plain": [
       "          nom      gen      dat      acc      voc  loc classe\n",
       "1237  0.06667  0.00000  0.06667  0.10000  0.03333  0.0    0.0\n",
       "1582  0.05000  0.02619  0.01905  0.06429  0.00000  0.0    0.0\n",
       "1581  0.01667  0.00000  0.05000  0.20000  0.00000  0.0    0.0\n",
       "1580  0.04444  0.00000  0.00000  0.11111  0.00000  0.0    0.0\n",
       "1579  0.04444  0.00000  0.00000  0.11111  0.00000  0.0    0.0"
      ]
     },
     "execution_count": 21,
     "metadata": {},
     "output_type": "execute_result"
    }
   ],
   "source": [
    "data.head()"
   ]
  },
  {
   "cell_type": "markdown",
   "metadata": {},
   "source": [
    "## Conversion to Vectors"
   ]
  },
  {
   "cell_type": "code",
   "execution_count": 22,
   "metadata": {},
   "outputs": [],
   "source": [
    "### Testing"
   ]
  },
  {
   "cell_type": "code",
   "execution_count": 23,
   "metadata": {},
   "outputs": [
    {
     "data": {
      "text/html": [
       "<div>\n",
       "<style scoped>\n",
       "    .dataframe tbody tr th:only-of-type {\n",
       "        vertical-align: middle;\n",
       "    }\n",
       "\n",
       "    .dataframe tbody tr th {\n",
       "        vertical-align: top;\n",
       "    }\n",
       "\n",
       "    .dataframe thead th {\n",
       "        text-align: right;\n",
       "    }\n",
       "</style>\n",
       "<table border=\"1\" class=\"dataframe\">\n",
       "  <thead>\n",
       "    <tr style=\"text-align: right;\">\n",
       "      <th></th>\n",
       "      <th>nom</th>\n",
       "      <th>gen</th>\n",
       "      <th>dat</th>\n",
       "      <th>acc</th>\n",
       "      <th>voc</th>\n",
       "      <th>loc</th>\n",
       "      <th>classe</th>\n",
       "    </tr>\n",
       "  </thead>\n",
       "  <tbody>\n",
       "    <tr>\n",
       "      <th>1237</th>\n",
       "      <td>0.06667</td>\n",
       "      <td>0.00000</td>\n",
       "      <td>0.06667</td>\n",
       "      <td>0.10000</td>\n",
       "      <td>0.03333</td>\n",
       "      <td>0.0</td>\n",
       "      <td>0.0</td>\n",
       "    </tr>\n",
       "    <tr>\n",
       "      <th>1582</th>\n",
       "      <td>0.05000</td>\n",
       "      <td>0.02619</td>\n",
       "      <td>0.01905</td>\n",
       "      <td>0.06429</td>\n",
       "      <td>0.00000</td>\n",
       "      <td>0.0</td>\n",
       "      <td>0.0</td>\n",
       "    </tr>\n",
       "    <tr>\n",
       "      <th>1581</th>\n",
       "      <td>0.01667</td>\n",
       "      <td>0.00000</td>\n",
       "      <td>0.05000</td>\n",
       "      <td>0.20000</td>\n",
       "      <td>0.00000</td>\n",
       "      <td>0.0</td>\n",
       "      <td>0.0</td>\n",
       "    </tr>\n",
       "    <tr>\n",
       "      <th>1580</th>\n",
       "      <td>0.04444</td>\n",
       "      <td>0.00000</td>\n",
       "      <td>0.00000</td>\n",
       "      <td>0.11111</td>\n",
       "      <td>0.00000</td>\n",
       "      <td>0.0</td>\n",
       "      <td>0.0</td>\n",
       "    </tr>\n",
       "    <tr>\n",
       "      <th>1579</th>\n",
       "      <td>0.04444</td>\n",
       "      <td>0.00000</td>\n",
       "      <td>0.00000</td>\n",
       "      <td>0.11111</td>\n",
       "      <td>0.00000</td>\n",
       "      <td>0.0</td>\n",
       "      <td>0.0</td>\n",
       "    </tr>\n",
       "  </tbody>\n",
       "</table>\n",
       "</div>"
      ],
      "text/plain": [
       "          nom      gen      dat      acc      voc  loc classe\n",
       "1237  0.06667  0.00000  0.06667  0.10000  0.03333  0.0    0.0\n",
       "1582  0.05000  0.02619  0.01905  0.06429  0.00000  0.0    0.0\n",
       "1581  0.01667  0.00000  0.05000  0.20000  0.00000  0.0    0.0\n",
       "1580  0.04444  0.00000  0.00000  0.11111  0.00000  0.0    0.0\n",
       "1579  0.04444  0.00000  0.00000  0.11111  0.00000  0.0    0.0"
      ]
     },
     "execution_count": 23,
     "metadata": {},
     "output_type": "execute_result"
    }
   ],
   "source": [
    "data.head()"
   ]
  },
  {
   "cell_type": "code",
   "execution_count": 24,
   "metadata": {},
   "outputs": [],
   "source": [
    "# Split into variables and outputs\n",
    "\n",
    "X = data.iloc[:,1:-1]\n",
    "y = data.iloc[:,-1]"
   ]
  },
  {
   "cell_type": "code",
   "execution_count": 25,
   "metadata": {},
   "outputs": [],
   "source": [
    "# Splitting\n",
    "from sklearn.model_selection import train_test_split\n",
    "\n",
    "# take 20% of the data as test\n",
    "trainInp, testInp, trainOut, testOut = train_test_split(X,y,test_size=0.20, random_state=69,shuffle=True)"
   ]
  },
  {
   "cell_type": "code",
   "execution_count": 26,
   "metadata": {},
   "outputs": [
    {
     "data": {
      "text/html": [
       "<div>\n",
       "<style scoped>\n",
       "    .dataframe tbody tr th:only-of-type {\n",
       "        vertical-align: middle;\n",
       "    }\n",
       "\n",
       "    .dataframe tbody tr th {\n",
       "        vertical-align: top;\n",
       "    }\n",
       "\n",
       "    .dataframe thead th {\n",
       "        text-align: right;\n",
       "    }\n",
       "</style>\n",
       "<table border=\"1\" class=\"dataframe\">\n",
       "  <thead>\n",
       "    <tr style=\"text-align: right;\">\n",
       "      <th></th>\n",
       "      <th>gen</th>\n",
       "      <th>dat</th>\n",
       "      <th>acc</th>\n",
       "      <th>voc</th>\n",
       "      <th>loc</th>\n",
       "    </tr>\n",
       "  </thead>\n",
       "  <tbody>\n",
       "    <tr>\n",
       "      <th>1465</th>\n",
       "      <td>0.00000</td>\n",
       "      <td>0.00000</td>\n",
       "      <td>0.00000</td>\n",
       "      <td>0.0</td>\n",
       "      <td>0.0</td>\n",
       "    </tr>\n",
       "    <tr>\n",
       "      <th>115</th>\n",
       "      <td>0.05000</td>\n",
       "      <td>0.05000</td>\n",
       "      <td>0.05833</td>\n",
       "      <td>0.0</td>\n",
       "      <td>0.0</td>\n",
       "    </tr>\n",
       "    <tr>\n",
       "      <th>1461</th>\n",
       "      <td>0.00000</td>\n",
       "      <td>0.00000</td>\n",
       "      <td>0.04444</td>\n",
       "      <td>0.0</td>\n",
       "      <td>0.0</td>\n",
       "    </tr>\n",
       "    <tr>\n",
       "      <th>862</th>\n",
       "      <td>0.02963</td>\n",
       "      <td>0.02222</td>\n",
       "      <td>0.05926</td>\n",
       "      <td>0.0</td>\n",
       "      <td>0.0</td>\n",
       "    </tr>\n",
       "    <tr>\n",
       "      <th>2137</th>\n",
       "      <td>0.05000</td>\n",
       "      <td>0.03889</td>\n",
       "      <td>0.03333</td>\n",
       "      <td>0.0</td>\n",
       "      <td>0.0</td>\n",
       "    </tr>\n",
       "  </tbody>\n",
       "</table>\n",
       "</div>"
      ],
      "text/plain": [
       "          gen      dat      acc  voc  loc\n",
       "1465  0.00000  0.00000  0.00000  0.0  0.0\n",
       "115   0.05000  0.05000  0.05833  0.0  0.0\n",
       "1461  0.00000  0.00000  0.04444  0.0  0.0\n",
       "862   0.02963  0.02222  0.05926  0.0  0.0\n",
       "2137  0.05000  0.03889  0.03333  0.0  0.0"
      ]
     },
     "execution_count": 26,
     "metadata": {},
     "output_type": "execute_result"
    }
   ],
   "source": [
    "trainInp.head()"
   ]
  },
  {
   "cell_type": "code",
   "execution_count": 27,
   "metadata": {},
   "outputs": [
    {
     "data": {
      "text/plain": [
       "1465    0.0\n",
       "115     1.0\n",
       "1461    0.0\n",
       "862     1.0\n",
       "2137    1.0\n",
       "Name: classe, dtype: category\n",
       "Categories (2, float64): [0.0, 1.0]"
      ]
     },
     "execution_count": 27,
     "metadata": {},
     "output_type": "execute_result"
    }
   ],
   "source": [
    "trainOut.head()"
   ]
  },
  {
   "cell_type": "code",
   "execution_count": null,
   "metadata": {},
   "outputs": [],
   "source": []
  },
  {
   "cell_type": "code",
   "execution_count": null,
   "metadata": {},
   "outputs": [],
   "source": []
  },
  {
   "cell_type": "markdown",
   "metadata": {},
   "source": [
    "### Standardize inputs\n",
    "\n",
    "We'll use here sklearn to standardize the values in the inputs, removing the mean and scaling everything to unit variance."
   ]
  },
  {
   "cell_type": "code",
   "execution_count": 28,
   "metadata": {},
   "outputs": [],
   "source": [
    "from torch.utils.data import Dataset, DataLoader\n",
    "from sklearn.preprocessing import StandardScaler    \n",
    "from sklearn.metrics import confusion_matrix, classification_report\n",
    "scaler = StandardScaler()"
   ]
  },
  {
   "cell_type": "code",
   "execution_count": 29,
   "metadata": {},
   "outputs": [],
   "source": [
    "trainInp = scaler.fit_transform(trainInp)\n",
    "testInp = scaler.fit_transform(testInp)"
   ]
  },
  {
   "cell_type": "markdown",
   "metadata": {},
   "source": [
    "### Custom Dataset"
   ]
  },
  {
   "cell_type": "code",
   "execution_count": 30,
   "metadata": {},
   "outputs": [],
   "source": [
    "# Constants of the model\n",
    "EPOCHS = 50\n",
    "BATCH_SIZE = 20\n",
    "L_RATE = 0.001"
   ]
  },
  {
   "cell_type": "code",
   "execution_count": 31,
   "metadata": {},
   "outputs": [],
   "source": [
    "trainOut = torch.Tensor(trainOut.values)"
   ]
  },
  {
   "cell_type": "code",
   "execution_count": 32,
   "metadata": {},
   "outputs": [],
   "source": [
    "class trainData(Dataset):\n",
    "    def __init__(self, X_data, y_data):\n",
    "        self.X_data = X_data\n",
    "        self.y_data = y_data\n",
    "        \n",
    "    def __getitem__(self, index):\n",
    "        return self.X_data[index], self.y_data[index]\n",
    "        \n",
    "    def __len__ (self):\n",
    "        return len(self.X_data)\n",
    "\n",
    "train_data = trainData(torch.FloatTensor(trainInp),torch.FloatTensor(trainOut,))"
   ]
  },
  {
   "cell_type": "code",
   "execution_count": 33,
   "metadata": {},
   "outputs": [],
   "source": [
    "testOut = torch.tensor(testOut.values)\n",
    "class testData(Dataset):\n",
    "    \n",
    "    def __init__(self, X_data):\n",
    "        self.X_data = X_data\n",
    "        \n",
    "    def __getitem__(self, index):\n",
    "        return self.X_data[index]\n",
    "        \n",
    "    def __len__ (self):\n",
    "        return len(self.X_data)\n",
    "    \n",
    "\n",
    "test_data = testData(torch.FloatTensor(testInp))"
   ]
  },
  {
   "cell_type": "code",
   "execution_count": 34,
   "metadata": {},
   "outputs": [],
   "source": [
    "trainLoader = DataLoader(train_data, batch_size=30, shuffle=True)"
   ]
  },
  {
   "cell_type": "code",
   "execution_count": 35,
   "metadata": {},
   "outputs": [],
   "source": [
    "testLoader = DataLoader(test_data, shuffle=True, batch_size=1)"
   ]
  },
  {
   "cell_type": "code",
   "execution_count": 36,
   "metadata": {},
   "outputs": [
    {
     "data": {
      "text/plain": [
       "(160, 5)"
      ]
     },
     "execution_count": 36,
     "metadata": {},
     "output_type": "execute_result"
    }
   ],
   "source": [
    "testInp.shape"
   ]
  },
  {
   "cell_type": "markdown",
   "metadata": {},
   "source": [
    "### Model"
   ]
  },
  {
   "cell_type": "code",
   "execution_count": 37,
   "metadata": {},
   "outputs": [],
   "source": [
    "class Homeromai(nn.Module):\n",
    "    def __init__(self):\n",
    "        super(Homeromai,self).__init__()\n",
    "        # kernel\n",
    "        self.lin1 = nn.Linear(5,5)\n",
    "        self.lin2 = nn.Linear(5,3)\n",
    "        self.lin3 = nn.Linear(3,2)\n",
    "        self.last = nn.Linear(2,1)\n",
    "        self.activation = nn.Sigmoid()\n",
    "        self.dropout = nn.Dropout(p=0.4)\n",
    "\n",
    "    def forward(self, x):\n",
    "        x = self.activation(self.lin1(x))\n",
    "        x = self.activation(self.lin2(x))\n",
    "        x = self.activation(self.lin3(x))\n",
    "        x = self.dropout(x)\n",
    "        x = self.last(x)\n",
    "        return x"
   ]
  },
  {
   "cell_type": "code",
   "execution_count": 38,
   "metadata": {},
   "outputs": [
    {
     "name": "stdout",
     "output_type": "stream",
     "text": [
      "cuda:0\n"
     ]
    }
   ],
   "source": [
    "device = torch.device(\"cuda:0\" if torch.cuda.is_available() else \"cpu\")\n",
    "print(device)"
   ]
  },
  {
   "cell_type": "code",
   "execution_count": 51,
   "metadata": {},
   "outputs": [],
   "source": [
    "model = Homeromai()\n",
    "#model.to(device)\n",
    "optimizer = optim.Adam(model.parameters(), lr=L_RATE)\n",
    "criterium = nn.BCEWithLogitsLoss()"
   ]
  },
  {
   "cell_type": "code",
   "execution_count": 52,
   "metadata": {},
   "outputs": [
    {
     "name": "stdout",
     "output_type": "stream",
     "text": [
      "Homeromai(\n",
      "  (lin1): Linear(in_features=5, out_features=5, bias=True)\n",
      "  (lin2): Linear(in_features=5, out_features=3, bias=True)\n",
      "  (lin3): Linear(in_features=3, out_features=2, bias=True)\n",
      "  (last): Linear(in_features=2, out_features=1, bias=True)\n",
      "  (activation): Sigmoid()\n",
      "  (dropout): Dropout(p=0.4, inplace=False)\n",
      ")\n"
     ]
    }
   ],
   "source": [
    "print(model)"
   ]
  },
  {
   "cell_type": "code",
   "execution_count": 53,
   "metadata": {},
   "outputs": [
    {
     "name": "stdout",
     "output_type": "stream",
     "text": [
      "tensor([-0.4183], grad_fn=<AddBackward0>)\n"
     ]
    }
   ],
   "source": [
    "# example\n",
    "inp = train_data[0][0]#.to(device)\n",
    "out = model(inp)#.to(device)\n",
    "print(out)"
   ]
  },
  {
   "cell_type": "code",
   "execution_count": 54,
   "metadata": {},
   "outputs": [],
   "source": [
    "def bin_accuracy(yhat, yobs):\n",
    "\n",
    "    yhat_tag = torch.round(torch.sigmoid(yhat))\n",
    "    correct = (yhat_tag == yobs).sum().float()\n",
    "    acc = correct/yobs.shape[0]\n",
    "    acc = torch.round(acc * 100)\n",
    "    return acc"
   ]
  },
  {
   "cell_type": "code",
   "execution_count": 55,
   "metadata": {},
   "outputs": [
    {
     "data": {
      "text/plain": [
       "Homeromai(\n",
       "  (lin1): Linear(in_features=5, out_features=5, bias=True)\n",
       "  (lin2): Linear(in_features=5, out_features=3, bias=True)\n",
       "  (lin3): Linear(in_features=3, out_features=2, bias=True)\n",
       "  (last): Linear(in_features=2, out_features=1, bias=True)\n",
       "  (activation): Sigmoid()\n",
       "  (dropout): Dropout(p=0.4, inplace=False)\n",
       ")"
      ]
     },
     "execution_count": 55,
     "metadata": {},
     "output_type": "execute_result"
    }
   ],
   "source": [
    "model.train()"
   ]
  },
  {
   "cell_type": "code",
   "execution_count": 56,
   "metadata": {
    "scrolled": true
   },
   "outputs": [
    {
     "name": "stdout",
     "output_type": "stream",
     "text": [
      "Epoch 001: | Loss: 0.72387 | Acc: 50.045\n",
      "Epoch 002: | Loss: 0.72687 | Acc: 49.091\n",
      "Epoch 003: | Loss: 0.71779 | Acc: 50.136\n",
      "Epoch 004: | Loss: 0.71117 | Acc: 49.409\n",
      "Epoch 005: | Loss: 0.70843 | Acc: 49.955\n",
      "Epoch 006: | Loss: 0.71537 | Acc: 49.364\n",
      "Epoch 007: | Loss: 0.71344 | Acc: 48.773\n",
      "Epoch 008: | Loss: 0.70628 | Acc: 50.000\n",
      "Epoch 009: | Loss: 0.70633 | Acc: 48.545\n",
      "Epoch 010: | Loss: 0.70907 | Acc: 49.409\n",
      "Epoch 011: | Loss: 0.70789 | Acc: 48.182\n",
      "Epoch 012: | Loss: 0.69975 | Acc: 51.682\n",
      "Epoch 013: | Loss: 0.70438 | Acc: 48.182\n",
      "Epoch 014: | Loss: 0.70285 | Acc: 49.045\n",
      "Epoch 015: | Loss: 0.69816 | Acc: 52.591\n",
      "Epoch 016: | Loss: 0.69972 | Acc: 50.727\n",
      "Epoch 017: | Loss: 0.70398 | Acc: 48.909\n",
      "Epoch 018: | Loss: 0.69700 | Acc: 52.500\n",
      "Epoch 019: | Loss: 0.70194 | Acc: 50.455\n",
      "Epoch 020: | Loss: 0.69903 | Acc: 51.000\n",
      "Epoch 021: | Loss: 0.70254 | Acc: 49.318\n",
      "Epoch 022: | Loss: 0.70067 | Acc: 49.727\n",
      "Epoch 023: | Loss: 0.70624 | Acc: 47.909\n",
      "Epoch 024: | Loss: 0.69728 | Acc: 49.682\n",
      "Epoch 025: | Loss: 0.70213 | Acc: 50.636\n",
      "Epoch 026: | Loss: 0.70597 | Acc: 47.909\n",
      "Epoch 027: | Loss: 0.69602 | Acc: 50.818\n",
      "Epoch 028: | Loss: 0.70091 | Acc: 48.909\n",
      "Epoch 029: | Loss: 0.69670 | Acc: 51.636\n",
      "Epoch 030: | Loss: 0.70159 | Acc: 47.773\n",
      "Epoch 031: | Loss: 0.70519 | Acc: 46.500\n",
      "Epoch 032: | Loss: 0.69706 | Acc: 50.864\n",
      "Epoch 033: | Loss: 0.69641 | Acc: 50.955\n",
      "Epoch 034: | Loss: 0.69940 | Acc: 49.364\n",
      "Epoch 035: | Loss: 0.70753 | Acc: 46.273\n",
      "Epoch 036: | Loss: 0.70000 | Acc: 50.182\n",
      "Epoch 037: | Loss: 0.69861 | Acc: 50.591\n",
      "Epoch 038: | Loss: 0.69591 | Acc: 52.045\n",
      "Epoch 039: | Loss: 0.70634 | Acc: 45.636\n",
      "Epoch 040: | Loss: 0.69395 | Acc: 49.864\n",
      "Epoch 041: | Loss: 0.69589 | Acc: 51.909\n",
      "Epoch 042: | Loss: 0.70210 | Acc: 47.227\n",
      "Epoch 043: | Loss: 0.70154 | Acc: 47.591\n",
      "Epoch 044: | Loss: 0.69674 | Acc: 48.909\n",
      "Epoch 045: | Loss: 0.69345 | Acc: 51.364\n",
      "Epoch 046: | Loss: 0.68842 | Acc: 53.318\n",
      "Epoch 047: | Loss: 0.70293 | Acc: 48.136\n",
      "Epoch 048: | Loss: 0.69578 | Acc: 49.227\n",
      "Epoch 049: | Loss: 0.69729 | Acc: 50.591\n",
      "Epoch 050: | Loss: 0.69774 | Acc: 49.318\n",
      "Epoch 051: | Loss: 0.70158 | Acc: 47.364\n",
      "Epoch 052: | Loss: 0.69747 | Acc: 50.318\n",
      "Epoch 053: | Loss: 0.70147 | Acc: 47.227\n",
      "Epoch 054: | Loss: 0.69667 | Acc: 49.273\n",
      "Epoch 055: | Loss: 0.69481 | Acc: 51.091\n",
      "Epoch 056: | Loss: 0.69489 | Acc: 50.227\n",
      "Epoch 057: | Loss: 0.70015 | Acc: 46.955\n",
      "Epoch 058: | Loss: 0.69223 | Acc: 51.909\n",
      "Epoch 059: | Loss: 0.69362 | Acc: 52.273\n",
      "Epoch 060: | Loss: 0.69952 | Acc: 46.818\n",
      "Epoch 061: | Loss: 0.69191 | Acc: 51.045\n",
      "Epoch 062: | Loss: 0.69051 | Acc: 51.545\n",
      "Epoch 063: | Loss: 0.68964 | Acc: 53.182\n",
      "Epoch 064: | Loss: 0.69600 | Acc: 50.318\n",
      "Epoch 065: | Loss: 0.69722 | Acc: 51.818\n",
      "Epoch 066: | Loss: 0.69542 | Acc: 51.591\n",
      "Epoch 067: | Loss: 0.69927 | Acc: 47.591\n",
      "Epoch 068: | Loss: 0.68783 | Acc: 54.045\n",
      "Epoch 069: | Loss: 0.69648 | Acc: 50.136\n",
      "Epoch 070: | Loss: 0.69749 | Acc: 48.727\n",
      "Epoch 071: | Loss: 0.69604 | Acc: 47.955\n",
      "Epoch 072: | Loss: 0.69448 | Acc: 51.636\n",
      "Epoch 073: | Loss: 0.69703 | Acc: 49.545\n",
      "Epoch 074: | Loss: 0.69921 | Acc: 47.818\n",
      "Epoch 075: | Loss: 0.69063 | Acc: 51.636\n",
      "Epoch 076: | Loss: 0.69800 | Acc: 47.864\n",
      "Epoch 077: | Loss: 0.69195 | Acc: 52.818\n",
      "Epoch 078: | Loss: 0.69757 | Acc: 49.500\n",
      "Epoch 079: | Loss: 0.69826 | Acc: 49.045\n"
     ]
    }
   ],
   "source": [
    "for e in range(1,80):\n",
    "    epoch_loss = 0\n",
    "    epoch_acc = 0\n",
    "    for x_data, x_out in trainLoader:\n",
    "        \n",
    "        #x_data, x_out = x_data.to(device), x_out.to(device) # move to GPU\n",
    "        \n",
    "        optimizer.zero_grad() # set gradients to zero\n",
    "        \n",
    "        yhat = model(x_data)\n",
    "        \n",
    "        loss = criterium(yhat,x_out.unsqueeze(1))\n",
    "        acc = bin_accuracy(yhat,x_out.unsqueeze(1))\n",
    "        \n",
    "        loss.backward()\n",
    "        optimizer.step()\n",
    "        \n",
    "        epoch_loss += loss.item()\n",
    "        epoch_acc += acc.item()\n",
    "        \n",
    "\n",
    "    print(f'Epoch {e+0:03}: | Loss: {epoch_loss/len(trainLoader):.5f} | Acc: {epoch_acc/len(trainLoader):.3f}')"
   ]
  },
  {
   "cell_type": "markdown",
   "metadata": {},
   "source": [
    "## Test the model"
   ]
  },
  {
   "cell_type": "code",
   "execution_count": 57,
   "metadata": {},
   "outputs": [
    {
     "data": {
      "text/plain": [
       "Homeromai(\n",
       "  (lin1): Linear(in_features=5, out_features=5, bias=True)\n",
       "  (lin2): Linear(in_features=5, out_features=3, bias=True)\n",
       "  (lin3): Linear(in_features=3, out_features=2, bias=True)\n",
       "  (last): Linear(in_features=2, out_features=1, bias=True)\n",
       "  (activation): Sigmoid()\n",
       "  (dropout): Dropout(p=0.4, inplace=False)\n",
       ")"
      ]
     },
     "execution_count": 57,
     "metadata": {},
     "output_type": "execute_result"
    }
   ],
   "source": [
    "yhat_list = []\n",
    "model.eval()"
   ]
  },
  {
   "cell_type": "code",
   "execution_count": 59,
   "metadata": {},
   "outputs": [],
   "source": [
    "with torch.no_grad(): # do not use backpropagation (leave it as it is)\n",
    "    for x_data in testLoader:\n",
    "        x_data = x_data#.to(device)\n",
    "        yhat = model(x_data)\n",
    "        \n",
    "        yhat = torch.sigmoid(yhat) # extract the p\n",
    "        yhat_tag = torch.round(yhat)\n",
    "        yhat_list.append(yhat_tag.cpu().numpy())\n",
    "        \n",
    "yhat_list = [a.squeeze().tolist() for a in yhat_list]"
   ]
  },
  {
   "cell_type": "markdown",
   "metadata": {},
   "source": [
    "### Confusion Matrix"
   ]
  },
  {
   "cell_type": "code",
   "execution_count": 60,
   "metadata": {},
   "outputs": [
    {
     "data": {
      "text/plain": [
       "array([[84,  0],\n",
       "       [76,  0]], dtype=int64)"
      ]
     },
     "execution_count": 60,
     "metadata": {},
     "output_type": "execute_result"
    }
   ],
   "source": [
    "cm = confusion_matrix(testOut, yhat_list)\n",
    "cm"
   ]
  },
  {
   "cell_type": "code",
   "execution_count": 61,
   "metadata": {},
   "outputs": [
    {
     "data": {
      "text/plain": [
       "<sklearn.metrics._plot.confusion_matrix.ConfusionMatrixDisplay at 0x1d774fc8ec8>"
      ]
     },
     "execution_count": 61,
     "metadata": {},
     "output_type": "execute_result"
    },
    {
     "data": {
      "image/png": "[encoded data removed]",
      "text/plain": [
       "<Figure size 720x576 with 2 Axes>"
      ]
     },
     "metadata": {
      "needs_background": "light"
     },
     "output_type": "display_data"
    }
   ],
   "source": [
    "from sklearn.metrics import ConfusionMatrixDisplay\n",
    "disp = ConfusionMatrixDisplay(confusion_matrix=cm)\n",
    "disp.plot()"
   ]
  },
  {
   "cell_type": "code",
   "execution_count": 62,
   "metadata": {},
   "outputs": [
    {
     "name": "stdout",
     "output_type": "stream",
     "text": [
      "Medi azzeccati: 0.525\n",
      "Attivi azzeccati: 0.0\n",
      "Medi sbagliati: 0.0\n",
      "Attivi sbagliati: 0.475\n",
      "\n",
      "\n",
      "Richtig: 0.525 %\n",
      "Falsch: 0.475 %\n"
     ]
    }
   ],
   "source": [
    "print(f\"Medi azzeccati: {cm[0,0]/np.sum(cm)}\\nAttivi azzeccati: {cm[1,1]/np.sum(cm)}\\nMedi sbagliati: {cm[0,1]/np.sum(cm)}\\nAttivi sbagliati: {cm[1,0]/np.sum(cm)}\" )\n",
    "print(f\"\\n\\nRichtig: {(cm[0,0]+cm[1,1])/np.sum(cm)} %\\nFalsch: {(cm[1,0]+cm[0,1])/np.sum(cm)} %\")"
   ]
  },
  {
   "cell_type": "code",
   "execution_count": null,
   "metadata": {},
   "outputs": [],
   "source": [
    "print(classification_report(testOut, yhat_list))"
   ]
  },
  {
   "cell_type": "code",
   "execution_count": null,
   "metadata": {},
   "outputs": [],
   "source": [
    "for d in model.lin1.weight.data:\n",
    "    print(f\"Index : {(d == max(d)).nonzero()} | Max: {max(d)}\")"
   ]
  },
  {
   "cell_type": "code",
   "execution_count": null,
   "metadata": {},
   "outputs": [],
   "source": []
  }
 ],
 "metadata": {
  "kernelspec": {
   "display_name": "Python 3",
   "language": "python",
   "name": "python3"
  },
  "language_info": {
   "codemirror_mode": {
    "name": "ipython",
    "version": 3
   },
   "file_extension": ".py",
   "mimetype": "text/x-python",
   "name": "python",
   "nbconvert_exporter": "python",
   "pygments_lexer": "ipython3",
   "version": "3.7.7"
  }
 },
 "nbformat": 4,
 "nbformat_minor": 4
}
